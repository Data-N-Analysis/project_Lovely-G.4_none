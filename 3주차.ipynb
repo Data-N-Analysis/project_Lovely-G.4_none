{
 "cells": [
  {
   "cell_type": "markdown",
   "id": "691b7ed2-9dc3-4f71-8c82-f5c175c264c6",
   "metadata": {},
   "source": [
    "# 2주차까지 진행한 상황"
   ]
  },
  {
   "cell_type": "code",
   "execution_count": 1,
   "id": "187135bd-e404-49e6-9e02-7fae46bc6491",
   "metadata": {},
   "outputs": [],
   "source": [
    "# 필요한 라이브러리 임포트\n",
    "import pandas as pd\n",
    "import numpy as np\n",
    "pd.set_option('display.max_columns', None) # 모든 열을 출력한다.\n",
    "\n",
    "# 기본 시각화 라이브러리 임포트\n",
    "import matplotlib.pyplot as plt\n",
    "import matplotlib as mpl\n",
    "%matplotlib inline\n",
    "\n",
    "import seaborn as sns \n",
    "from matplotlib import rc\n",
    "\n",
    "# 기본 한글 폰트로 설정\n",
    "rc(\"font\", family=\"AppleGothic\")  # 맥의 경우\n",
    "# rc(\"font\", family=\"Malgun Gothic\")  # 윈도우의 경우\n",
    "\n",
    "# 음수 부호까지 제대로 표시되도록 설정 추가\n",
    "plt.rcParams['axes.unicode_minus'] = False\n",
    "\n",
    "# 경고 메시지 무시\n",
    "import random\n",
    "import warnings\n",
    "warnings.filterwarnings(\"ignore\")"
   ]
  },
  {
   "cell_type": "code",
   "execution_count": 2,
   "id": "9f279954-c8f3-436d-ab6d-c52427e73594",
   "metadata": {},
   "outputs": [],
   "source": [
    "train_df = pd.read_csv('/Users/raekkkky/Desktop/DNA/winter 24/project7/train.csv')\n",
    "test_df = pd.read_csv('/Users/raekkkky/Desktop/DNA/winter 24/project7/test.csv')\n",
    "sample_submission_df = pd.read_csv('/Users/raekkkky/Desktop/DNA/winter 24/project7/sample_submission.csv')"
   ]
  },
  {
   "cell_type": "code",
   "execution_count": 3,
   "id": "8d524372-5581-4635-8703-19583c1d2fd7",
   "metadata": {},
   "outputs": [],
   "source": [
    "# 의미없는 변수 제거 [index, FLAG_MOBIL]\n",
    "train_df.drop(['index', 'FLAG_MOBIL'], axis=1, inplace=True)\n",
    "# test_df.drop(['index', 'FLAG_MOBIL'], axis=1, inplace=True)"
   ]
  },
  {
   "cell_type": "code",
   "execution_count": 4,
   "id": "4fec0419-eecb-467d-856d-c2932147f848",
   "metadata": {},
   "outputs": [
    {
     "name": "stdout",
     "output_type": "stream",
     "text": [
      "0\n"
     ]
    }
   ],
   "source": [
    "# 결측치 처리 [1번째 방법]\n",
    "train_df.fillna('NaN', inplace=True)\n",
    "# test_df.fillna('NaN', inplace=True)\n",
    "\n",
    "# 결과 확인\n",
    "print(train_df['occyp_type'].isnull().sum())  # 남아있는 결측값 개수 확인"
   ]
  },
  {
   "cell_type": "code",
   "execution_count": 5,
   "id": "7f5e134d-4943-4823-9b0a-8bdc3351c997",
   "metadata": {},
   "outputs": [
    {
     "name": "stdout",
     "output_type": "stream",
     "text": [
      "0\n"
     ]
    }
   ],
   "source": [
    "# 결측치 처리 [2번째 방법]\n",
    "\n",
    "# \"occyp_type\" 열의 값에 대한 비율 계산\n",
    "occyp_type_ratios = train_df[\"occyp_type\"].value_counts(normalize=True)\n",
    "\n",
    "# 결측값을 채울 함수 정의\n",
    "def fill_missing_occyp_type(row):\n",
    "    if pd.isnull(row['occyp_type']):\n",
    "        return occyp_type_ratios.sample(1, weights=occyp_type_ratios).index[0]\n",
    "    else:\n",
    "        return row['occyp_type']\n",
    "\n",
    "# 'occyp_type' 열에 적용\n",
    "train_df['occyp_type'] = train_df.apply(fill_missing_occyp_type, axis=1)\n",
    "\n",
    "# 결과 확인\n",
    "print(train_df['occyp_type'].isnull().sum())  # 남아있는 결측값 개수 확인"
   ]
  },
  {
   "cell_type": "code",
   "execution_count": 6,
   "id": "81175643-e024-43a3-9d1d-7bca8c70ff30",
   "metadata": {},
   "outputs": [],
   "source": [
    "# 결측치 처리 [3번째 방법]\n",
    "\n",
    "# 상관관계 파악 후 결측치 변수와 관련성이 높은 변수를 기준으로 결측치 처리 해보기!"
   ]
  },
  {
   "cell_type": "code",
   "execution_count": 7,
   "id": "31ff06b8-a855-4e33-b4a2-f4e705af1ccd",
   "metadata": {},
   "outputs": [],
   "source": [
    "# 이상치 처리 \n",
    "train_df = train_df[(train_df['family_size'] <= 7)] # 가족 수가 7 초과인 것들 삭제]\n",
    "train_df = train_df[(train_df['child_num'] <= 5)] # 자녀 수가 5 초과인 것들 삭제\n",
    "train_df = train_df.reset_index(drop=True) # 새롭게 초기화 배열"
   ]
  },
  {
   "cell_type": "code",
   "execution_count": 8,
   "id": "dfb74ceb-6b30-4255-9a4a-1f14dbd0a192",
   "metadata": {},
   "outputs": [],
   "source": [
    "# 변수 변환 [양수는 0으로 바꿔 고용되지 않은 상태로 변환]\n",
    "train_df['DAYS_EMPLOYED'] = train_df['DAYS_EMPLOYED'].map(lambda x: 0 if x > 0 else x)\n",
    "# test['DAYS_EMPLOYED'] = test['DAYS_EMPLOYED'].map(lambda x: 0 if x > 0 else x)"
   ]
  },
  {
   "cell_type": "code",
   "execution_count": 9,
   "id": "f98b4061-1f96-445f-8f5c-5ec8433c46b6",
   "metadata": {},
   "outputs": [],
   "source": [
    "# 변수 변환 [음수값 -> 양수 변환]\n",
    "# 날짜 변수 : DAYS_BIRTH, begin_month, DAYS_EMPLOYED\n",
    "\n",
    "dates = ['DAYS_BIRTH', 'begin_month', 'DAYS_EMPLOYED']\n",
    "for date in dates:\n",
    "    train_df[date]=np.abs(train_df[date])\n",
    "    # test_df[date]=np.abs(test_df[date])"
   ]
  },
  {
   "cell_type": "code",
   "execution_count": 10,
   "id": "1431bd5c-5156-4055-b5cd-d37fc6ca81ce",
   "metadata": {},
   "outputs": [],
   "source": [
    "# 구간화 함수 제작\n",
    "def make_bin(df, variable, n):\n",
    "    \n",
    "    data = df\n",
    "    count, bin_dividers = np.histogram(data[variable], bins=n)\n",
    "    bin_names=[str(i) for i in range(n)]\n",
    "    data['%s_bin' % variable] = pd.cut(x=data[variable], bins=bin_dividers, labels=bin_names, include_lowest=True)\n",
    "    data['%s_bin' % variable] = pd.factorize(data['%s_bin' % variable])[0]\n",
    "    print(data['%s_bin' % variable], '\\n\\n')\n",
    "    \n",
    "    return data"
   ]
  },
  {
   "cell_type": "code",
   "execution_count": 11,
   "id": "60f8b749-221a-4bda-9ba5-33fd637454ab",
   "metadata": {},
   "outputs": [],
   "source": [
    "# 파생변수 [함수화]\n",
    "# numeric 변수는 최대한 다양한 특징을 보일 수 있도록 생성 + category 변수는 여러가지를 조합해 보기!\n",
    "# [train_df,test_df] 대입하면 test까지 한 번에 가능!!\n",
    "\n",
    "for df in [train_df] :\n",
    "    \n",
    "    # [1] before_EMPLOYED : 고용되기 전까지의 일수 (고용비율)\n",
    "    df['before_EMPLOYED'] = df['DAYS_BIRTH'] - df['DAYS_EMPLOYED']\n",
    "    \n",
    "    # [2] income_total_befofeEMP_ratio : 연간 소득 중 고용되기 전까지의 비율\n",
    "    df['income_total_befofeEMP_ratio'] = df['income_total'] / df['before_EMPLOYED']\n",
    "\n",
    "    # [3] before_EMPLOYED_year : 고용되지 전까지의 년\n",
    "    df['before_EMPLOYED_year'] = df['before_EMPLOYED'] // 365\n",
    "\n",
    "    # [4] before_EMPLOYED_month : 고용된 몇 월\n",
    "    df['before_EMPLOYED_month'] = np.floor(df['before_EMPLOYED'] / 30) - ((np.floor(df['before_EMPLOYED'] / 30) / 12).astype(int) * 12)\n",
    "\n",
    "    # [5] before_EMPLOYED_week : 고용된 몇째 주\n",
    "    df['before_EMPLOYED_week'] = np.floor(df['before_EMPLOYED'] / 7) - ((np.floor(df['before_EMPLOYED'] / 7) / 4).astype(int) * 4)\n",
    "    \n",
    "    # [6] Age : 나이\n",
    "    df['Age'] = df['DAYS_BIRTH'] // 365\n",
    "    \n",
    "    # [7] DAYS_BIRTH_month : 태어난 월 (출생연도의 n월)\n",
    "    df['DAYS_BIRTH_month'] = np.floor(df['DAYS_BIRTH'] / 30) - ((np.floor(df['DAYS_BIRTH'] / 30) / 12).astype(int) * 12)\n",
    "    \n",
    "    # [8] DAYS_BIRTH_week : 태어난 주 (출생연도의 n주차)\n",
    "    df['DAYS_BIRTH_week'] = np.floor(df['DAYS_BIRTH'] / 7) - ((np.floor(df['DAYS_BIRTH'] / 7) / 4).astype(int) * 4)\n",
    "\n",
    "    # [9] EMPLOYED : 근속연수\n",
    "    df['EMPLOYED'] = df['DAYS_EMPLOYED'] // 365\n",
    "    \n",
    "    # [10] DAYS_EMPLOYED_month : 고용된 달 (고용연도의 n월)\n",
    "    df['DAYS_EMPLOYED_month'] = np.floor(df['DAYS_EMPLOYED'] / 30) - ((np.floor(df['DAYS_EMPLOYED'] / 30) / 12).astype(int) * 12)\n",
    "\n",
    "    # [11] DAYS_EMPLOYED_week : 고용된 주 (고용연도의 n주차)\n",
    "    df['DAYS_EMPLOYED_week'] = np.floor(df['DAYS_EMPLOYED'] / 7) - ((np.floor(df['DAYS_EMPLOYED'] / 7) / 4).astype(int) * 4)\n",
    "\n",
    "    # [12] ability : 소득 / (근무일수)\n",
    "    df['ability'] = df['income_total'] / (df['DAYS_EMPLOYED'])\n",
    "    \n",
    "    # [13] income_mean : 소득 / 가족 수 (인당 평균 부양비)\n",
    "    df['income_mean'] = df['income_total'] / df['family_size']\n",
    "\n",
    "    # [14] : raito_EMPLOYED (인생의 일한 비율)\n",
    "    df['raito_EMPLOYED'] = df['DAYS_EMPLOYED'] / df['DAYS_BIRTH']\n",
    "\n",
    "    # [15] : begin_year (신용카드 발급 년도)\n",
    "    df['begin_year'] = df['begin_month'] // 12\n",
    "\n",
    "    # [16] 만 단위로 생성\n",
    "    df['income_total'] = df['income_total']/10000\n",
    "\n",
    "    # [17] ID 생성 {1번째 방법}\n",
    "    df['personal_id'] = df['gender'] + \"_\" + df['DAYS_BIRTH'].astype(str) + \"_\" + df['income_total'].astype(str) + df['income_type'].astype(str)\n",
    "\n",
    "    # [18] ID 생성 {2번째 방법}\n",
    "    df['ID'] = \\\n",
    "    df['child_num'].astype(str) + '_' + df['income_total'].astype(str) + '_' +\\\n",
    "    df['DAYS_BIRTH'].astype(str) + '_' + df['DAYS_EMPLOYED'].astype(str) + '_' +\\\n",
    "    df['work_phone'].astype(str) + '_' + df['phone'].astype(str) + '_' +\\\n",
    "    df['email'].astype(str) + '_' + df['family_size'].astype(str) + '_' +\\\n",
    "    df['gender'].astype(str) + '_' + df['car'].astype(str) + '_' +\\\n",
    "    df['reality'].astype(str) + '_' + df['income_type'].astype(str) + '_' +\\\n",
    "    df['edu_type'].astype(str) + '_' + df['family_type'].astype(str) + '_' +\\\n",
    "    df['house_type'].astype(str) + '_' + df['occyp_type'].astype(str)"
   ]
  },
  {
   "cell_type": "code",
   "execution_count": null,
   "id": "22d651d4-4223-4852-992f-9c765f2ca696",
   "metadata": {},
   "outputs": [],
   "source": []
  }
 ],
 "metadata": {
  "kernelspec": {
   "display_name": "Python 3 (ipykernel)",
   "language": "python",
   "name": "python3"
  },
  "language_info": {
   "codemirror_mode": {
    "name": "ipython",
    "version": 3
   },
   "file_extension": ".py",
   "mimetype": "text/x-python",
   "name": "python",
   "nbconvert_exporter": "python",
   "pygments_lexer": "ipython3",
   "version": "3.11.6"
  }
 },
 "nbformat": 4,
 "nbformat_minor": 5
}
