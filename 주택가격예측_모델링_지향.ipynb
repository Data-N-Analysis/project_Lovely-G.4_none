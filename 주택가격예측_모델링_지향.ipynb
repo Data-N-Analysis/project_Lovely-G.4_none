{
  "nbformat": 4,
  "nbformat_minor": 0,
  "metadata": {
    "colab": {
      "provenance": [],
      "include_colab_link": true
    },
    "kernelspec": {
      "name": "python3",
      "display_name": "Python 3"
    },
    "language_info": {
      "name": "python"
    }
  },
  "cells": [
    {
      "cell_type": "markdown",
      "metadata": {
        "id": "view-in-github",
        "colab_type": "text"
      },
      "source": [
        "<a href=\"https://colab.research.google.com/github/jihyangg/project_Lovely-G.4_none/blob/main/%EC%A3%BC%ED%83%9D%EA%B0%80%EA%B2%A9%EC%98%88%EC%B8%A1_%EB%AA%A8%EB%8D%B8%EB%A7%81_%EC%A7%80%ED%96%A5.ipynb\" target=\"_parent\"><img src=\"https://colab.research.google.com/assets/colab-badge.svg\" alt=\"Open In Colab\"/></a>"
      ]
    },
    {
      "cell_type": "code",
      "source": [
        "from google.colab import drive\n",
        "drive.mount('/content/drive')"
      ],
      "metadata": {
        "id": "iq1Qr0nUc-YI"
      },
      "execution_count": null,
      "outputs": []
    },
    {
      "cell_type": "code",
      "source": [
        "# 필요한 라이브러리 임포트\n",
        "import pandas as pd\n",
        "import numpy as np\n",
        "pd.set_option('display.max_columns', None) # 모든 열을 출력한다.\n",
        "\n",
        "# 기본 시각화 라이브러리 임포트\n",
        "import matplotlib.pyplot as plt\n",
        "import matplotlib as mpl\n",
        "%matplotlib inline\n",
        "\n",
        "import seaborn as sns\n",
        "from matplotlib import rc\n",
        "\n",
        "# 기본 한글 폰트로 설정\n",
        "import matplotlib.font_manager as fm  # 폰트 관리\n",
        "\n",
        "\n",
        "!apt-get update -qq         # apt-get 패키지 설치 명령어, -qq : 에러외 메세지 숨기기\n",
        "!apt-get install fonts-nanum* -qq #나눔글꼴 설치\n",
        "\n",
        "fe = fm.FontEntry(fname=r'C:/Windows/Fonts/NanumGothic.ttf', name='NanumGothic') #파일 저장되어있는 경로와 이름 설정\n",
        "fm.fontManager.ttflist.insert(0, fe)  # Matplotlib에 폰트\n",
        "plt.rcParams.update({'font.size': 10, 'font.family': 'NanumGothic'}) #폰트설정\n",
        "plt.rcParams['font.family'] = 'NanumGothic'\n",
        "\n",
        "# 음수 부호까지 제대로 표시되도록 설정 추가\n",
        "plt.rcParams['axes.unicode_minus'] = False\n",
        "\n",
        "# 경고 메시지 무시\n",
        "import random\n",
        "import warnings\n",
        "warnings.filterwarnings(\"ignore\")\n",
        "\n",
        "train_df = pd.read_csv('/content/drive/MyDrive/캐글 주택가격 예측/train.csv')\n",
        "test_df = pd.read_csv('/content/drive/MyDrive/캐글 주택가격 예측/test.csv')\n",
        "sample_submission_df = pd.read_csv('/content/drive/MyDrive/캐글 주택가격 예측/sample_submission.csv')\n",
        "\n",
        "print(train_df.shape)\n",
        "print(test_df.shape)"
      ],
      "metadata": {
        "id": "ZfY0g3OhaXHQ"
      },
      "execution_count": null,
      "outputs": []
    },
    {
      "cell_type": "markdown",
      "source": [
        "# **결측값**"
      ],
      "metadata": {
        "id": "8s3UQ-Mg10lH"
      }
    },
    {
      "cell_type": "code",
      "source": [
        "# 결측치가 과하게 많은 행은 제거!\n",
        "train_df.drop(['Alley','PoolQC','Fence','MiscFeature'],axis=1,inplace=True)\n",
        "test_df.drop(['Alley','PoolQC','Fence','MiscFeature'],axis=1,inplace=True)"
      ],
      "metadata": {
        "id": "goIz9QxV12ZH"
      },
      "execution_count": null,
      "outputs": []
    },
    {
      "cell_type": "markdown",
      "source": [
        "## **기존안 (중앙값 및 최빈값)**"
      ],
      "metadata": {
        "id": "9IuRz2dbAgQd"
      }
    },
    {
      "cell_type": "code",
      "source": [
        "# 수치형 변수 결측값 중앙값으로 대체!\n",
        "train_df['LotFrontage']=train_df['LotFrontage'].fillna(train_df['LotFrontage'].median())\n",
        "train_df['MasVnrArea']=train_df['MasVnrArea'].fillna(train_df['MasVnrArea'].median())\n",
        "train_df['GarageYrBlt']=train_df['GarageYrBlt'].fillna(train_df['GarageYrBlt'].median())\n",
        "\n",
        "# 문자형 변수 결측값 최빈값으로 대체!\n",
        "train_df['FireplaceQu']=train_df['FireplaceQu'].fillna(train_df['FireplaceQu'].mode()[0])\n",
        "train_df['GarageCond']=train_df['GarageCond'].fillna(train_df['GarageCond'].mode()[0])\n",
        "train_df['GarageType']=train_df['GarageType'].fillna(train_df['GarageType'].mode()[0])\n",
        "train_df['GarageFinish']=train_df['GarageFinish'].fillna(train_df['GarageFinish'].mode()[0])\n",
        "train_df['GarageQual']=train_df['GarageQual'].fillna(train_df['GarageQual'].mode()[0])\n",
        "train_df['BsmtFinType2']=train_df['BsmtFinType2'].fillna(train_df['BsmtFinType2'].mode()[0])\n",
        "train_df['BsmtExposure']=train_df['BsmtExposure'].fillna(train_df['BsmtExposure'].mode()[0])\n",
        "train_df['BsmtQual']=train_df['BsmtQual'].fillna(train_df['BsmtQual'].mode()[0])\n",
        "train_df['BsmtCond']=train_df['BsmtCond'].fillna(train_df['BsmtCond'].mode()[0])\n",
        "train_df['BsmtFinType1']=train_df['BsmtFinType1'].fillna(train_df['BsmtFinType1'].mode()[0])\n",
        "train_df['MasVnrType']=train_df['MasVnrType'].fillna(train_df['MasVnrType'].mode()[0])\n",
        "train_df['Electrical']=train_df['Electrical'].fillna(train_df['Electrical'].mode()[0])"
      ],
      "metadata": {
        "id": "UW15xQlB2SEd"
      },
      "execution_count": null,
      "outputs": []
    },
    {
      "cell_type": "code",
      "source": [
        "# 수치형 변수 결측값 중앙값으로 대체!\n",
        "test_df['LotFrontage']=test_df['LotFrontage'].fillna(test_df['LotFrontage'].median())\n",
        "test_df['MasVnrArea']=test_df['MasVnrArea'].fillna(test_df['MasVnrArea'].median())\n",
        "test_df['GarageYrBlt']=test_df['GarageYrBlt'].fillna(test_df['GarageYrBlt'].median())\n",
        "test_df['BsmtFullBath']=test_df['BsmtFullBath'].fillna(test_df['BsmtFullBath'].median())\n",
        "test_df['BsmtHalfBath']=test_df['BsmtHalfBath'].fillna(test_df['BsmtHalfBath'].median())\n",
        "test_df['GarageArea']=test_df['GarageArea'].fillna(test_df['GarageArea'].median())\n",
        "test_df['GarageCars']=test_df['GarageCars'].fillna(test_df['GarageCars'].median())\n",
        "test_df['TotalBsmtSF']=test_df['TotalBsmtSF'].fillna(test_df['TotalBsmtSF'].median())\n",
        "test_df['BsmtUnfSF']=test_df['BsmtUnfSF'].fillna(test_df['BsmtUnfSF'].median())\n",
        "test_df['BsmtFinSF2']=test_df['BsmtFinSF2'].fillna(test_df['BsmtFinSF2'].median())\n",
        "test_df['BsmtFinSF1']=test_df['BsmtFinSF1'].fillna(test_df['BsmtFinSF1'].median())\n",
        "\n",
        "# 문자형 변수 결측값 최빈값으로 대체!\n",
        "test_df['FireplaceQu']=test_df['FireplaceQu'].fillna(test_df['FireplaceQu'].mode()[0])\n",
        "test_df['GarageCond']=test_df['GarageCond'].fillna(test_df['GarageCond'].mode()[0])\n",
        "test_df['GarageType']=test_df['GarageType'].fillna(test_df['GarageType'].mode()[0])\n",
        "test_df['GarageFinish']=test_df['GarageFinish'].fillna(test_df['GarageFinish'].mode()[0])\n",
        "test_df['GarageQual']=test_df['GarageQual'].fillna(test_df['GarageQual'].mode()[0])\n",
        "test_df['BsmtFinType2']=test_df['BsmtFinType2'].fillna(test_df['BsmtFinType2'].mode()[0])\n",
        "test_df['BsmtExposure']=test_df['BsmtExposure'].fillna(test_df['BsmtExposure'].mode()[0])\n",
        "test_df['BsmtQual']=test_df['BsmtQual'].fillna(test_df['BsmtQual'].mode()[0])\n",
        "test_df['BsmtCond']=test_df['BsmtCond'].fillna(test_df['BsmtCond'].mode()[0])\n",
        "test_df['BsmtFinType1']=test_df['BsmtFinType1'].fillna(test_df['BsmtFinType1'].mode()[0])\n",
        "test_df['MasVnrType']=test_df['MasVnrType'].fillna(test_df['MasVnrType'].mode()[0])\n",
        "test_df['MSZoning']=test_df['MSZoning'].fillna(test_df['MSZoning'].mode()[0])\n",
        "test_df['Functional']=test_df['Functional'].fillna(test_df['Functional'].mode()[0])\n",
        "test_df['Utilities']=test_df['Utilities'].fillna(test_df['Utilities'].mode()[0])\n",
        "test_df['Exterior2nd']=test_df['Exterior2nd'].fillna(test_df['Exterior2nd'].mode()[0])\n",
        "test_df['Exterior1st']=test_df['Exterior1st'].fillna(test_df['Exterior1st'].mode()[0])\n",
        "test_df['SaleType']=test_df['SaleType'].fillna(test_df['SaleType'].mode()[0])"
      ],
      "metadata": {
        "id": "GW3mHxCg2Z9S"
      },
      "execution_count": null,
      "outputs": []
    },
    {
      "cell_type": "markdown",
      "source": [
        "## **변경안 (None 및 0+여러가지 혼합)**"
      ],
      "metadata": {
        "id": "nbsV8cEaDEJH"
      }
    },
    {
      "cell_type": "code",
      "source": [
        "noneColumns=['MasVnrType','FireplaceQu','GarageType','GarageFinish','GarageQual','GarageCond','BsmtQual','BsmtCond','BsmtExposure','BsmtFinType1','BsmtFinType2']\n",
        "for i in noneColumns:\n",
        "    train_df[i].fillna('None',inplace=True)\n",
        "    test_df[i].fillna('None',inplace=True)\n",
        "\n",
        "  # 'Alley','PoolQC','Fence','MiscFeature'"
      ],
      "metadata": {
        "id": "PhcaglJZDHX8"
      },
      "execution_count": null,
      "outputs": []
    },
    {
      "cell_type": "code",
      "source": [
        "zeroColumns=['BsmtFinSF1', 'BsmtFinSF2', 'BsmtUnfSF','TotalBsmtSF', 'BsmtFullBath', 'BsmtHalfBath','MasVnrArea','GarageYrBlt', 'GarageArea', 'GarageCars']\n",
        "for i in zeroColumns:\n",
        "    train_df[i].fillna(0,inplace=True)\n",
        "    test_df[i].fillna(0,inplace=True)"
      ],
      "metadata": {
        "id": "VT1_zKvoEwdT"
      },
      "execution_count": null,
      "outputs": []
    },
    {
      "cell_type": "code",
      "source": [
        "modeColumns=['Exterior1st','Exterior2nd','KitchenQual','SaleType','Electrical']\n",
        "for i in modeColumns:\n",
        "    train_df[i].fillna(train_df[i].mode()[0],inplace=True)\n",
        "    test_df[i].fillna(test_df[i].mode()[0],inplace=True)"
      ],
      "metadata": {
        "id": "t9KljDzTFqJp"
      },
      "execution_count": null,
      "outputs": []
    },
    {
      "cell_type": "code",
      "source": [
        "# 왜 했는지 잘 몰겠엉 대충 Neighborhood 타입별로 평균을 구해서 똑같은 타입의 결측값을 채우는 느낌\n",
        "train_df['LotFrontage']=train_df.groupby('Neighborhood')['LotFrontage'].transform(lambda x: x.fillna(x.mean()))\n",
        "test_df['LotFrontage']=test_df.groupby('Neighborhood')['LotFrontage'].transform(lambda y: y.fillna(y.mean()))"
      ],
      "metadata": {
        "id": "GzuqorgwFacI"
      },
      "execution_count": null,
      "outputs": []
    },
    {
      "cell_type": "code",
      "source": [
        "# 위에 코드랑 똑같은데 평균이 아니라 중앙값\n",
        "train_df['LotFrontage'] = train_df.groupby('Neighborhood')['LotFrontage'].transform(lambda x: x.fillna(x.median()))\n",
        "test_df['LotFrontage'] = test_df.groupby('Neighborhood')['LotFrontage'].transform(lambda x: x.fillna(x.median()))"
      ],
      "metadata": {
        "id": "h2ccnObIbxRH"
      },
      "execution_count": null,
      "outputs": []
    },
    {
      "cell_type": "code",
      "source": [
        "# test_df['MSZoning'].fillna(test_df['MSZoning'].mode()[0],inplace=True)\n",
        "\n",
        "# 위에랑 똑같은데 최빈값\n",
        "test_df['MSZoning'] = test_df.groupby('MSSubClass')['MSZoning'].transform(lambda x: x.fillna(x.mode()[0]))"
      ],
      "metadata": {
        "id": "n2EZ04WoF-BX"
      },
      "execution_count": null,
      "outputs": []
    },
    {
      "cell_type": "code",
      "source": [
        "# 결측치 자체가 별로 없는데 Typ 가 많이 분포해 있어서 Typ 로 대체\n",
        "test_df['Functional'].fillna('Typ',inplace=True)"
      ],
      "metadata": {
        "id": "rZVHMDqrGbLb"
      },
      "execution_count": null,
      "outputs": []
    },
    {
      "cell_type": "code",
      "source": [
        "# 하나 값이 99.9% 이상으로 압도적으로 많은 변수이므로 그냥 제거\n",
        "train_df.drop(columns=['Utilities'],axis=1,inplace=True)\n",
        "test_df.drop(columns=['Utilities'],axis=1,inplace=True)\n",
        "\n",
        "train_df.drop(columns=['Street'],axis=1,inplace=True)\n",
        "test_df.drop(columns=['Street'],axis=1,inplace=True)"
      ],
      "metadata": {
        "id": "Jr9vUS-kGIjI"
      },
      "execution_count": null,
      "outputs": []
    },
    {
      "cell_type": "code",
      "source": [
        "train_df.info()"
      ],
      "metadata": {
        "id": "cDqNNnFr-MLN"
      },
      "execution_count": null,
      "outputs": []
    },
    {
      "cell_type": "code",
      "source": [
        "test_df.info()"
      ],
      "metadata": {
        "id": "Ks6fEHzC-Vak"
      },
      "execution_count": null,
      "outputs": []
    },
    {
      "cell_type": "markdown",
      "source": [
        "# **이상치**\n",
        "\n"
      ],
      "metadata": {
        "id": "WDl76sdhRlZi"
      }
    },
    {
      "cell_type": "markdown",
      "source": [
        "## **눈대중(중앙값 대체)**"
      ],
      "metadata": {
        "id": "vPVgUJr-RaiJ"
      }
    },
    {
      "cell_type": "code",
      "source": [
        "columns_to_replace = ['LotFrontage', 'BsmtFinSF1', 'TotalBsmtSF', 'EnclosedPorch', 'MiscVal']  # 대체하려는 변수들의 리스트\n",
        "values_to_replace = [300, 5000, 5000, 500, 8000]  # 대체하려는 값들의 리스트\n",
        "\n",
        "for column, value in zip(columns_to_replace, values_to_replace):\n",
        "    median_value = train_df.loc[train_df[column] < value, column].median()  # 대체할 값(value)이 아닌 값들의 중앙값 계산\n",
        "    train_df.loc[train_df[column] > value, column] = median_value  # 대체할 값(value)을 중앙값으로 대체"
      ],
      "metadata": {
        "id": "rJ3oksCX1V8m"
      },
      "execution_count": null,
      "outputs": []
    },
    {
      "cell_type": "code",
      "source": [
        "columns2_to_replace = ['BsmtFinSF1', 'TotalBsmtSF', 'WoodDeckSF', 'EnclosedPorch', 'MiscVal', '1stFlrSF', 'LowQualFinSF', 'GarageYrBlt']  # 대체하려는 변수들의 리스트\n",
        "values2_to_replace = [3500,4000,1200,800,10000,4000,1000,2150]  # 대체하려는 값들의 리스트\n",
        "\n",
        "for column, value in zip(columns2_to_replace, values2_to_replace):\n",
        "    median_value = test_df.loc[test_df[column] < value, column].median()  # 대체할 값(value)이 아닌 값들의 중앙값 계산\n",
        "    test_df.loc[test_df[column] > value, column] = median_value  # 대체할 값(value)을 중앙값으로 대체"
      ],
      "metadata": {
        "id": "gOxKi4KY5u8f"
      },
      "execution_count": null,
      "outputs": []
    },
    {
      "cell_type": "markdown",
      "source": [
        "# **PCA**"
      ],
      "metadata": {
        "id": "XBa2_Ab7gFhI"
      }
    },
    {
      "cell_type": "code",
      "source": [
        "house_df = pd.concat([train_df,test_df],ignore_index = True, sort = False)"
      ],
      "metadata": {
        "id": "rkgHP0D09xkY"
      },
      "execution_count": null,
      "outputs": []
    },
    {
      "cell_type": "code",
      "source": [
        "tr_idx = house_df['SalePrice'].notnull()"
      ],
      "metadata": {
        "id": "N412gwKe-gcq"
      },
      "execution_count": null,
      "outputs": []
    },
    {
      "cell_type": "code",
      "source": [
        "house_df"
      ],
      "metadata": {
        "id": "AP5JPgziVXJY"
      },
      "execution_count": null,
      "outputs": []
    },
    {
      "cell_type": "code",
      "source": [
        "tr_idx"
      ],
      "metadata": {
        "id": "FxWYsb3yVoiD"
      },
      "execution_count": null,
      "outputs": []
    },
    {
      "cell_type": "code",
      "source": [
        "from sklearn.decomposition import PCA"
      ],
      "metadata": {
        "id": "BvRURRm7_F46"
      },
      "execution_count": null,
      "outputs": []
    },
    {
      "cell_type": "code",
      "source": [
        "def apply_pca(X, standardize=True):\n",
        "    # Standardize\n",
        "    if standardize:\n",
        "        X = (X - X.mean(axis=0)) / X.std(axis=0)\n",
        "    # Create principal components\n",
        "    pca = PCA()\n",
        "    X_pca = pca.fit_transform(X)\n",
        "    # Convert to dataframe\n",
        "    component_names = [f\"PC{i+1}\" for i in range(X_pca.shape[1])]\n",
        "    X_pca = pd.DataFrame(X_pca, columns=component_names)\n",
        "    # Create loadings\n",
        "    loadings = pd.DataFrame(\n",
        "        pca.components_.T,  # transpose the matrix of loadings\n",
        "        columns=component_names,  # so the columns are the principal components\n",
        "        index=X.columns,  # and the rows are the original house_df\n",
        "    )\n",
        "    return pca, X_pca, loadings"
      ],
      "metadata": {
        "id": "wLPaddew-8So"
      },
      "execution_count": null,
      "outputs": []
    },
    {
      "cell_type": "code",
      "source": [
        "def outlier_iqr(data):\n",
        "    q1,q3 = np.percentile(data,[25,75])\n",
        "    iqr = q3-q1\n",
        "    lower = q1-(iqr*2)\n",
        "    upper = q3+(iqr*2)\n",
        "    return np.where((data>upper)|(data<lower))"
      ],
      "metadata": {
        "id": "xFT7kC2y-9N7"
      },
      "execution_count": null,
      "outputs": []
    },
    {
      "cell_type": "code",
      "source": [
        "# 양의 선형관계를 보이는 칼럼들을 추려서 이상치 제거!\n",
        "features = [\"GarageArea\",\"OverallQual\",\"TotalBsmtSF\",\"GrLivArea\"]\n",
        "\n",
        "house_copy = house_df[tr_idx].copy()\n",
        "y_copy = house_copy.pop(\"SalePrice\")\n",
        "X_copy = house_copy.loc[:, features]\n",
        "\n",
        "X_copy.isnull().sum()\n",
        "pca, X_pca, loadings = apply_pca(X_copy)"
      ],
      "metadata": {
        "id": "6EaEvOYpRnhO"
      },
      "execution_count": null,
      "outputs": []
    },
    {
      "cell_type": "code",
      "source": [
        "import plotly.express as px\n",
        "fig = px.histogram(X_pca[['PC1','PC2']].melt(), color=\"variable\",\n",
        "                   marginal=\"box\",\n",
        "                   barmode =\"overlay\",\n",
        "                   histnorm ='density'\n",
        "                  )\n",
        "fig.update_layout(\n",
        "    title_font_color=\"white\",\n",
        "    legend_title_font_color=\"yellow\",\n",
        "    title={\n",
        "        'text': \"PCA Histogram\",\n",
        "        'x':0.5,\n",
        "        'xanchor': 'center',\n",
        "        'yanchor': 'top'},\n",
        "    paper_bgcolor=\"black\",\n",
        "    plot_bgcolor='black',\n",
        "    font_color=\"white\",\n",
        ")"
      ],
      "metadata": {
        "id": "-9cEfFr1_V62"
      },
      "execution_count": null,
      "outputs": []
    },
    {
      "cell_type": "code",
      "source": [
        "pc1_outlier_idx = list(outlier_iqr(X_pca['PC1'])[0])\n",
        "component = \"PC1\"\n",
        "\n",
        "pc1_idx = X_pca[component].sort_values(ascending=False).index\n",
        "df_temp_pc1 = house_df.loc[pc1_idx, [\"SalePrice\", \"Neighborhood\", \"SaleCondition\"] + features]\n",
        "\n",
        "def highlight_min(s, props=''):\n",
        "    return np.where(s == np.nanmin(s.values), props, '')\n",
        "\n",
        "df_temp_pc1.iloc[pc1_outlier_idx,:].style.set_properties(**{'background-color': 'Grey',\n",
        "                            'color': 'white',\n",
        "                            'border-color': 'darkblack'})"
      ],
      "metadata": {
        "id": "-Unwftg__-Vm"
      },
      "execution_count": null,
      "outputs": []
    },
    {
      "cell_type": "code",
      "source": [
        "sns.set(font_scale = 1.5)\n",
        "sns.set_style(\"white\")\n",
        "sns.set_palette(\"Blues_r\")\n",
        "plt.figure(figsize=(20,30))\n",
        "plt.subplots_adjust(hspace=0.3)\n",
        "plt.subplot(4,2,1)\n",
        "ax1 = sns.regplot(data=house_df, x='GrLivArea',y='SalePrice')\n",
        "ax1.set_title('Outliers in GrLivArea',fontsize=20)\n",
        "plt.subplot(4,2,2)\n",
        "ax2 = sns.regplot(data=house_df.iloc[pc1_outlier_idx,:], x='GrLivArea',y='SalePrice')\n",
        "ax2.set_title('Outliers After PCA',fontsize=20)\n",
        "plt.subplot(4,2,3)\n",
        "ax3 = sns.regplot(data=house_df, x='TotalBsmtSF',y='SalePrice')\n",
        "ax3.set_title('Outliers in TotalBsmtSF',fontsize=20)\n",
        "plt.subplot(4,2,4)\n",
        "ax4 = sns.regplot(data=house_df.iloc[pc1_outlier_idx,:], x='TotalBsmtSF',y='SalePrice')\n",
        "ax4.set_title('Outliers After PCA',fontsize=20)\n",
        "plt.subplot(4,2,5)\n",
        "ax5 = sns.regplot(data=house_df, x='OverallQual',y='SalePrice')\n",
        "ax5.set_title('Outliers in OverallQual',fontsize=20)\n",
        "plt.subplot(4,2,6)\n",
        "ax6 = sns.regplot(data=house_df.iloc[pc1_outlier_idx,:], x='OverallQual',y='SalePrice')\n",
        "ax6.set_title('Outliers After PCA',fontsize=20)\n",
        "plt.subplot(4,2,7)\n",
        "ax7 = sns.regplot(data=house_df, x='GarageArea',y='SalePrice')\n",
        "ax7.set_title('Outliers in GarageArea',fontsize=20)\n",
        "plt.subplot(4,2,8)\n",
        "ax8 = sns.regplot(data=house_df.iloc[pc1_outlier_idx,:], x='GarageArea',y='SalePrice')\n",
        "ax8.set_title('Outliers After PCA',fontsize=20)\n",
        "sns.despine()"
      ],
      "metadata": {
        "id": "Af8pPcThANq8"
      },
      "execution_count": null,
      "outputs": []
    },
    {
      "cell_type": "code",
      "source": [
        "pc2_outlier_idx = list(outlier_iqr(X_pca['PC2'])[0])\n",
        "component = \"PC2\"\n",
        "\n",
        "pc2_idx = X_pca[component].sort_values(ascending=False).index\n",
        "df_temp_pc2 = house_df.loc[pc2_idx, [\"SalePrice\", \"Neighborhood\", \"SaleCondition\"] + features]\n",
        "\n",
        "def highlight_min(s, props=''):\n",
        "    return np.where(s == np.nanmin(s.values), props, '')\n",
        "\n",
        "df_temp_pc2.iloc[pc2_outlier_idx,:].style.set_properties(**{'background-color': 'Grey',\n",
        "                            'color': 'white',\n",
        "                            'border-color': 'darkblack'})"
      ],
      "metadata": {
        "id": "NS5KYB6eAUWs"
      },
      "execution_count": null,
      "outputs": []
    },
    {
      "cell_type": "code",
      "source": [
        "sns.set(font_scale = 1.5)\n",
        "sns.set_style(\"white\")\n",
        "sns.set_palette(\"Blues_r\")\n",
        "plt.figure(figsize=(20,30))\n",
        "plt.subplots_adjust(hspace=0.3)\n",
        "plt.subplot(4,2,1)\n",
        "ax1 = sns.regplot(data=house_df, x='GrLivArea',y='SalePrice')\n",
        "ax1.set_title('Outliers in GrLivArea',fontsize=20)\n",
        "plt.axhline(y=250000, color='Green', linestyle='--', linewidth=3)\n",
        "plt.axvline(x=4000, color='Green', linestyle='--', linewidth=3)\n",
        "plt.text(4500, 200000, 'Outliers',color='red')\n",
        "plt.subplot(4,2,2)\n",
        "ax2 = sns.regplot(data=house_df.iloc[pc2_outlier_idx,:], x='GrLivArea',y='SalePrice')\n",
        "ax2.set_title('Outliers After PCA',fontsize=20)\n",
        "plt.axhline(y=300000, color='Green', linestyle='--', linewidth=3)\n",
        "plt.axvline(x=4000, color='Green', linestyle='--', linewidth=3)\n",
        "plt.text(4500, 200000, 'Outliers',color='red')\n",
        "plt.subplot(4,2,3)\n",
        "ax3 = sns.regplot(data=house_df, x='TotalBsmtSF',y='SalePrice')\n",
        "ax3.set_title('Outliers in TotalBsmtSF',fontsize=20)\n",
        "plt.axhline(y=650000, color='Green', linestyle='--', linewidth=3)\n",
        "plt.text(2900, 670000, 'Outliers',color='red')\n",
        "plt.subplot(4,2,4)\n",
        "ax4 = sns.regplot(data=house_df.iloc[pc2_outlier_idx,:], x='TotalBsmtSF',y='SalePrice')\n",
        "ax4.set_title('Outliers After PCA',fontsize=20)\n",
        "plt.axhline(y=650000, color='Green', linestyle='--', linewidth=3)\n",
        "plt.text(2900, 670000, 'Outliers',color='red')\n",
        "plt.subplot(4,2,5)\n",
        "ax5 = sns.regplot(data=house_df, x='OverallQual',y='SalePrice')\n",
        "ax5.set_title('Outliers in OverallQual',fontsize=20)\n",
        "plt.axhline(y=650000, color='Green', linestyle='--', linewidth=3)\n",
        "plt.text(6, 700000, 'Outliers',color='red')\n",
        "plt.subplot(4,2,6)\n",
        "ax6 = sns.regplot(data=house_df.iloc[pc2_outlier_idx,:], x='OverallQual',y='SalePrice')\n",
        "ax6.set_title('Outliers After PCA',fontsize=20)\n",
        "plt.axhline(y=650000, color='Green', linestyle='--', linewidth=3)\n",
        "plt.text(6, 700000, 'Outliers',color='red')\n",
        "plt.subplot(4,2,7)\n",
        "ax7 = sns.regplot(data=house_df, x='GarageArea',y='SalePrice')\n",
        "ax7.set_title('Outliers in GarageArea',fontsize=20)\n",
        "plt.axhline(y=700000, color='Green', linestyle='--', linewidth=3)\n",
        "plt.text(400, 720000, 'Outliers',color='red')\n",
        "plt.subplot(4,2,8)\n",
        "ax8 = sns.regplot(data=house_df.iloc[pc2_outlier_idx,:], x='GarageArea',y='SalePrice')\n",
        "ax8.set_title('Outliers After PCA',fontsize=20)\n",
        "plt.axhline(y=700000, color='Green', linestyle='--', linewidth=3)\n",
        "plt.text(1000, 720000, 'Outliers',color='red')\n",
        "sns.despine()"
      ],
      "metadata": {
        "id": "LliD2dLW9DB7"
      },
      "execution_count": null,
      "outputs": []
    },
    {
      "cell_type": "code",
      "source": [
        "house_df.drop(pc1_outlier_idx,axis=0,inplace=True,errors='ignore')\n",
        "house_df.drop(pc2_outlier_idx,axis=0,inplace=True,errors='ignore')"
      ],
      "metadata": {
        "id": "gIn_JGtrAbXC"
      },
      "execution_count": null,
      "outputs": []
    },
    {
      "cell_type": "code",
      "source": [
        "sns.set(font_scale = 1.5)\n",
        "sns.set_style(\"white\")\n",
        "sns.set_palette(\"Blues_r\")\n",
        "plt.figure(figsize=(20,15))\n",
        "plt.subplots_adjust(hspace=0.2,wspace=0.4)\n",
        "plt.subplot(2,2,1)\n",
        "sns.regplot(data=house_df, x='GrLivArea',y='SalePrice')\n",
        "plt.subplot(2,2,2)\n",
        "sns.regplot(data=house_df, x='TotalBsmtSF',y='SalePrice')\n",
        "plt.subplot(2,2,3)\n",
        "sns.regplot(data=house_df, x='OverallQual',y='SalePrice')\n",
        "plt.subplot(2,2,4)\n",
        "sns.regplot(data=house_df, x='GarageArea',y='SalePrice')\n",
        "sns.despine()"
      ],
      "metadata": {
        "id": "_ZRblr4_Ae-o"
      },
      "execution_count": null,
      "outputs": []
    },
    {
      "cell_type": "markdown",
      "source": [
        "# **스케일링**"
      ],
      "metadata": {
        "id": "zB9lpMJ6Rs2w"
      }
    },
    {
      "cell_type": "code",
      "source": [
        "numerical_features = [feature for feature in house_df.columns if house_df[feature].dtypes != 'O']\n",
        "\n",
        "print('Number of numerical variables: ', len(numerical_features))"
      ],
      "metadata": {
        "id": "LpcPSl7bnG_5"
      },
      "execution_count": null,
      "outputs": []
    },
    {
      "cell_type": "code",
      "source": [
        "# 왜도 첨도 확인!\n",
        "# 왜도 1이상, 첨도 3이상이면 로그변환 필요! (딘, 무조건 필요한 건 아님)\n",
        "\n",
        "for col in numerical_features:\n",
        "    print('{:15}'.format(col),\n",
        "          'Skewness: {:05.2f}'.format(house_df[col].skew()) ,\n",
        "          '   ' ,\n",
        "          'Kurtosis: {:06.2f}'.format(house_df[col].kurt())\n",
        "         )"
      ],
      "metadata": {
        "id": "iFQ-1hptqy0h"
      },
      "execution_count": null,
      "outputs": []
    },
    {
      "cell_type": "code",
      "source": [
        "house_df[\"LotArea\"] = np.log1p(house_df[\"LotArea\"])\n",
        "house_df[\"LowQualFinSF\"] = np.log1p(house_df[\"LowQualFinSF\"])\n",
        "house_df[\"PoolArea\"] = np.log1p(house_df[\"PoolArea\"])\n",
        "house_df[\"3SsnPorch\"] = np.log1p(house_df[\"3SsnPorch\"])\n",
        "house_df[\"MiscVal\"] = np.log1p(house_df[\"MiscVal\"])"
      ],
      "metadata": {
        "id": "etJX3u2cxqQx"
      },
      "execution_count": null,
      "outputs": []
    },
    {
      "cell_type": "code",
      "source": [
        "# 지수변환\n",
        "house_df['TotalBsmtSF'] = house_df['TotalBsmtSF'].apply(lambda x: np.exp(6) if x <= 0.0 else x)\n",
        "house_df['2ndFlrSF'] = house_df['2ndFlrSF'].apply(lambda x: np.exp(6.5) if x <= 0.0 else x)\n",
        "house_df['GarageArea'] = house_df['GarageArea'].apply(lambda x: np.exp(6) if x <= 0.0 else x)\n",
        "house_df['GarageCars'] = house_df['GarageCars'].apply(lambda x: 0 if x <= 0.0 else x)\n",
        "house_df['LotFrontage'] = house_df['LotFrontage'].apply(lambda x: np.exp(4.2) if x <= 0.0 else x)\n",
        "house_df['MasVnrArea'] = house_df['MasVnrArea'].apply(lambda x: np.exp(4) if x <= 0.0 else x)\n",
        "house_df['BsmtFinSF1'] = house_df['BsmtFinSF1'].apply(lambda x: np.exp(6.5) if x <= 0.0 else x)"
      ],
      "metadata": {
        "id": "zS2MKYmgszlq"
      },
      "execution_count": null,
      "outputs": []
    },
    {
      "cell_type": "code",
      "source": [
        "numerical_features_log = [feature for feature in house_df.columns if house_df[feature].dtypes != 'O']\n",
        "\n",
        "print('Number of numerical variables: ', len(numerical_features_log))"
      ],
      "metadata": {
        "id": "MAHGygJJ_qtU"
      },
      "execution_count": null,
      "outputs": []
    },
    {
      "cell_type": "code",
      "source": [
        "# 왜도 첨도 확인!\n",
        "# 왜도 1이상, 첨도 3이상이면 로그변환 필요! (딘, 무조건 필요한 건 아님)\n",
        "\n",
        "for col in numerical_features:\n",
        "    print('{:15}'.format(col),\n",
        "          'Skewness: {:05.2f}'.format(house_df[col].skew()) ,\n",
        "          '   ' ,\n",
        "          'Kurtosis: {:06.2f}'.format(house_df[col].kurt())\n",
        "         )"
      ],
      "metadata": {
        "id": "JBSGb6Ui_jWm"
      },
      "execution_count": null,
      "outputs": []
    },
    {
      "cell_type": "code",
      "source": [
        "house_df[\"SalePrice\"] = np.log1p(house_df[\"SalePrice\"])"
      ],
      "metadata": {
        "id": "UW9K6Iejvh8p"
      },
      "execution_count": null,
      "outputs": []
    },
    {
      "cell_type": "markdown",
      "source": [
        "# **변수선택**"
      ],
      "metadata": {
        "id": "qSd18XTSRnu2"
      }
    },
    {
      "cell_type": "markdown",
      "source": [
        "## **인코딩 필요없는 수치형 변수들**"
      ],
      "metadata": {
        "id": "f6hso5xvAE07"
      }
    },
    {
      "cell_type": "code",
      "source": [
        "house_df['TotalSF'] = (house_df['BsmtFinSF1'] + house_df['BsmtFinSF2'] +\n",
        "                       house_df['1stFlrSF'] + house_df['2ndFlrSF'])\n",
        "house_df['TotalBathrooms'] = (house_df['FullBath'] +\n",
        "                              (0.5 * house_df['HalfBath']) +\n",
        "                              house_df['BsmtFullBath'] +\n",
        "                              (0.5 * house_df['BsmtHalfBath']))\n",
        "\n",
        "house_df['TotalPorchSF'] = (house_df['OpenPorchSF'] + house_df['3SsnPorch'] +\n",
        "                            house_df['EnclosedPorch'] +\n",
        "                            house_df['ScreenPorch'] + house_df['WoodDeckSF'])\n",
        "\n",
        "house_df['YearBlRm'] = (house_df['YearBuilt'] + house_df['YearRemodAdd'])\n",
        "\n",
        "# Merging quality and conditions.\n",
        "\n",
        "house_df['TotalExtQual'] = (house_df['ExterQual'] + house_df['ExterCond'])\n",
        "house_df['TotalBsmQual'] = (house_df['BsmtQual'] + house_df['BsmtCond'] +\n",
        "                            house_df['BsmtFinType1'] +\n",
        "                            house_df['BsmtFinType2'])\n",
        "house_df['TotalGrgQual'] = (house_df['GarageQual'] + house_df['GarageCond'])\n"
      ],
      "metadata": {
        "id": "bkeIQzC_Rsip"
      },
      "execution_count": null,
      "outputs": []
    },
    {
      "cell_type": "code",
      "source": [
        "house_df['YrBltAndRemod']=house_df['YearBuilt']+house_df['YearRemodAdd']\n",
        "\n",
        "house_df['Total_sqr_footage'] = (house_df['BsmtFinSF1'] + house_df['BsmtFinSF2'] +\n",
        "                                 house_df['1stFlrSF'] + house_df['2ndFlrSF'])"
      ],
      "metadata": {
        "id": "5Mxoge-Sc4Vz"
      },
      "execution_count": null,
      "outputs": []
    },
    {
      "cell_type": "code",
      "source": [
        "# simplified house_df\n",
        "# house_df['haspool'] = house_df['PoolArea'].apply(lambda x: 1 if x > 0 else 0)\n",
        "# house_df['has2ndfloor'] = house_df['2ndFlrSF'].apply(lambda x: 1 if x > 0 else 0)\n",
        "# house_df['hasgarage'] = house_df['GarageArea'].apply(lambda x: 1 if x > 0 else 0)\n",
        "# house_df['hasbsmt'] = house_df['TotalBsmtSF'].apply(lambda x: 1 if x > 0 else 0)\n",
        "house_df['hasfireplace'] = house_df['Fireplaces'].apply(lambda x: 1 if x > 0 else 0)"
      ],
      "metadata": {
        "id": "VuDiQO_Xc8w2"
      },
      "execution_count": null,
      "outputs": []
    },
    {
      "cell_type": "code",
      "source": [
        "# house_df['BsmtFinType1_Unf'] = 1*(house_df['BsmtFinType1'] == 'Unf') -> 오류 생김... 중복된대 ㅠ\n",
        "house_df['HasWoodDeck'] = (house_df['WoodDeckSF'] == 0) * 1\n",
        "house_df['HasOpenPorch'] = (house_df['OpenPorchSF'] == 0) * 1\n",
        "house_df['HasEnclosedPorch'] = (house_df['EnclosedPorch'] == 0) * 1\n",
        "house_df['Has3SsnPorch'] = (house_df['3SsnPorch'] == 0) * 1\n",
        "house_df['HasScreenPorch'] = (house_df['ScreenPorch'] == 0) * 1\n",
        "house_df['YearsSinceRemodel'] = house_df['YrSold'].astype(int) - house_df['YearRemodAdd'].astype(int)\n",
        "house_df['Total_Home_Quality'] = house_df['OverallQual'] + house_df['OverallCond']\n",
        "house_df['Total_SF'] = house_df['TotalBsmtSF'] + house_df['1stFlrSF'] + house_df['2ndFlrSF']"
      ],
      "metadata": {
        "id": "inh347GSnKRM"
      },
      "execution_count": null,
      "outputs": []
    },
    {
      "cell_type": "code",
      "source": [
        "numerical_features2 = [feature for feature in house_df.columns if house_df[feature].dtypes != 'O']\n",
        "\n",
        "print('Number of numerical variables: ', len(numerical_features2))"
      ],
      "metadata": {
        "id": "7WM7CTFJ6Imt"
      },
      "execution_count": null,
      "outputs": []
    },
    {
      "cell_type": "code",
      "source": [
        "#수치형 변수들과 SalePrice의 상관계수 확인!\n",
        "house_df.select_dtypes(exclude = 'object').corr()['SalePrice'].sort_values(ascending = False)"
      ],
      "metadata": {
        "id": "qLdy97Wv58gU"
      },
      "execution_count": null,
      "outputs": []
    },
    {
      "cell_type": "code",
      "source": [
        "# 왜도 첨도 다시 확인!\n",
        "\n",
        "for col in numerical_features2:\n",
        "    print('{:15}'.format(col),\n",
        "          'Skewness: {:05.2f}'.format(house_df[col].skew()) ,\n",
        "          '   ' ,\n",
        "          'Kurtosis: {:06.2f}'.format(house_df[col].kurt())\n",
        "         )"
      ],
      "metadata": {
        "id": "6UCgqjf9oT7C"
      },
      "execution_count": null,
      "outputs": []
    },
    {
      "cell_type": "markdown",
      "source": [
        "# **인코딩**"
      ],
      "metadata": {
        "id": "5mC1_MuSR1B0"
      }
    },
    {
      "cell_type": "code",
      "source": [
        "house_df = house_df.drop(columns=['Id'])"
      ],
      "metadata": {
        "id": "Xf2UMcJXXQx7"
      },
      "execution_count": null,
      "outputs": []
    },
    {
      "cell_type": "code",
      "source": [
        "house_df"
      ],
      "metadata": {
        "id": "3eAGbrdEkweg"
      },
      "execution_count": null,
      "outputs": []
    },
    {
      "cell_type": "markdown",
      "source": [
        "## **더미 변수**"
      ],
      "metadata": {
        "id": "sTZ9J586mcjo"
      }
    },
    {
      "cell_type": "code",
      "source": [
        "house_df = pd.get_dummies(house_df, drop_first=True)"
      ],
      "metadata": {
        "id": "bCuojOs5GZa3"
      },
      "execution_count": null,
      "outputs": []
    },
    {
      "cell_type": "code",
      "source": [
        "print('\\n 전체 피처의 타입\\n', house_df.dtypes.value_counts())\n",
        "isnull_series = house_df.isnull().sum()\n",
        "print('\\n Null columns and count:\\n', isnull_series[isnull_series>0].sort_values(ascending=False))"
      ],
      "metadata": {
        "id": "PM1ZxtyAMckj"
      },
      "execution_count": null,
      "outputs": []
    },
    {
      "cell_type": "markdown",
      "source": [
        "# **모델링**"
      ],
      "metadata": {
        "id": "mh4ay1WLG5p2"
      }
    },
    {
      "cell_type": "code",
      "source": [
        "# Imports\n",
        "import pandas as pd\n",
        "import numpy as np\n",
        "from sklearn.model_selection import cross_val_score, train_test_split, KFold\n",
        "from sklearn.preprocessing import StandardScaler, RobustScaler\n",
        "from sklearn.linear_model import LinearRegression, RidgeCV, LassoCV, ElasticNetCV\n",
        "from sklearn.metrics import mean_squared_error, make_scorer\n",
        "from IPython.display import display\n",
        "import matplotlib.pyplot as plt\n",
        "\n",
        "import warnings\n",
        "def ignore_warn(*args, **kwargs): pass\n",
        "warnings.warn = ignore_warn #ignore annoying warning (from sklearn and seaborn)\n",
        "\n",
        "%matplotlib inline\n"
      ],
      "metadata": {
        "id": "Tmd5SvPcmKDn"
      },
      "execution_count": null,
      "outputs": []
    },
    {
      "cell_type": "code",
      "source": [
        "from sklearn.ensemble import RandomForestRegressor, GradientBoostingRegressor\n",
        "import xgboost as xgb\n",
        "import lightgbm as lgb"
      ],
      "metadata": {
        "id": "hAa-FJHQmTw0"
      },
      "execution_count": null,
      "outputs": []
    },
    {
      "cell_type": "code",
      "source": [
        "model_gb = GradientBoostingRegressor(n_estimators=3000, learning_rate=0.05,\n",
        "                                   max_depth=4, max_features='sqrt',\n",
        "                                   min_samples_leaf=15, min_samples_split=10,\n",
        "                                   loss='huber')\n",
        "\n",
        "model_xgb = xgb.XGBRegressor(colsample_bytree=0.4603, gamma=0.0468,\n",
        "                             learning_rate=0.05, max_depth=3,\n",
        "                             min_child_weight=1.7817, n_estimators=2200,\n",
        "                             reg_alpha=0.4640, reg_lambda=0.8571,\n",
        "                             subsample=0.5213, silent=1,\n",
        "                             random_state =7, nthread = -1)\n",
        "\n",
        "model_lgb = lgb.LGBMRegressor(objective='regression',num_leaves=5,\n",
        "                              learning_rate=0.05, n_estimators=720,\n",
        "                              max_bin = 55, bagging_fraction = 0.8,\n",
        "                              bagging_freq = 5, feature_fraction = 0.2319,\n",
        "                              feature_fraction_seed=9, bagging_seed=9,\n",
        "                              min_data_in_leaf =6, min_sum_hessian_in_leaf = 11)"
      ],
      "metadata": {
        "id": "DoPDt6W2mWxq"
      },
      "execution_count": null,
      "outputs": []
    },
    {
      "cell_type": "code",
      "source": [
        "score = rmsle_cv(model_gb)\n",
        "gb_score = score.mean()\n",
        "print(\"GradientBoostingRegressor score: {:.4f} ({:.4f})\".format(score.mean(), score.std()))\n",
        "sample_submission_df.to_csv('gb.csv', index=False)"
      ],
      "metadata": {
        "id": "VkclgkbkmqB8"
      },
      "execution_count": null,
      "outputs": []
    },
    {
      "cell_type": "code",
      "source": [
        "score = rmsle_cv(model_xgb)\n",
        "xgb_score = score.mean()\n",
        "print(\"XGBRegressor score: {:.4f} ({:.4f})\".format(score.mean(), score.std()))\n",
        "sample_submission_df.to_csv('XGB.csv', index=False)"
      ],
      "metadata": {
        "id": "A0SK-1rRnHiq"
      },
      "execution_count": null,
      "outputs": []
    },
    {
      "cell_type": "code",
      "source": [
        "score = rmsle_cv(model_lgb)\n",
        "lgb_score = score.mean()\n",
        "print(\"LGBMRegressor score: {:.4f} ({:.4f})\".format(score.mean(), score.std()))\n",
        "sample_submission_df.to_csv('lgb.csv', index=False)"
      ],
      "metadata": {
        "id": "W2huCqsSnfYV"
      },
      "execution_count": null,
      "outputs": []
    },
    {
      "cell_type": "code",
      "source": [
        "#앙상블\n",
        "model_gb.fit(X, y)\n",
        "model_xgb.fit(X, y)\n",
        "model_lgb.fit(X, y)\n",
        "\n",
        "pred_gb = model_gb.predict(X)\n",
        "pred_xgb = model_xgb.predict(X)\n",
        "pred_lgb = model_lgb.predict(X)\n",
        "\n",
        "total_weight = (1. / gb_score) + (1. / xgb_score) + (1. / lgb_score)\n",
        "pred = (pred_gb * (1. / gb_score) + pred_xgb * (1. / xgb_score) +  pred_lgb * (1. / lgb_score)) / total_weight\n",
        "sample_submission_df.to_csv('gb+xgb+lgb.csv', index=False)"
      ],
      "metadata": {
        "id": "ETw8YKl3nxmW"
      },
      "execution_count": null,
      "outputs": []
    }
  ]
}