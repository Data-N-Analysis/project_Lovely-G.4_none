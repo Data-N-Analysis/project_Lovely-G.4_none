{
  "nbformat": 4,
  "nbformat_minor": 0,
  "metadata": {
    "colab": {
      "provenance": [],
      "authorship_tag": "ABX9TyPhmwOP7nfRUhJkky7n0CWs",
      "include_colab_link": true
    },
    "kernelspec": {
      "name": "python3",
      "display_name": "Python 3"
    },
    "language_info": {
      "name": "python"
    }
  },
  "cells": [
    {
      "cell_type": "markdown",
      "metadata": {
        "id": "view-in-github",
        "colab_type": "text"
      },
      "source": [
        "<a href=\"https://colab.research.google.com/github/jihyangg/project_Lovely-G.4_none/blob/main/%EA%B0%90%EA%B7%A4%EC%B0%A9%EA%B3%BC%EB%9F%89%EC%98%88%EC%B8%A1EDA_%ED%91%9C%EC%A7%80%ED%96%A5.ipynb\" target=\"_parent\"><img src=\"https://colab.research.google.com/assets/colab-badge.svg\" alt=\"Open In Colab\"/></a>"
      ]
    },
    {
      "cell_type": "code",
      "execution_count": 33,
      "metadata": {
        "id": "oucLiYAmPMlp"
      },
      "outputs": [],
      "source": [
        "import pandas as pd\n",
        "import matplotlib.pyplot as plt\n",
        "train = pd.read_csv(\"/content/train.csv\")\n",
        "test = pd.read_csv(\"/content/test.csv\")\n",
        "submission = pd.read_csv(\"/content/sample_submission.csv\")"
      ]
    },
    {
      "cell_type": "code",
      "source": [
        "train.head()"
      ],
      "metadata": {
        "id": "ze7o6clFR99Q",
        "colab": {
          "base_uri": "https://localhost:8080/",
          "height": 290
        },
        "outputId": "d500549e-6bbc-46ec-bb0c-70955d699079"
      },
      "execution_count": 34,
      "outputs": [
        {
          "output_type": "execute_result",
          "data": {
            "text/plain": [
              "           ID  착과량(int)  수고(m)  수관폭1(min)  수관폭2(max)  수관폭평균  2022-09-01 새순  \\\n",
              "0  TRAIN_0000       692  275.0      287.0      292.0  289.5            2.8   \n",
              "1  TRAIN_0001       534  293.0      284.0      336.0  310.0            3.3   \n",
              "2  TRAIN_0002       634  300.0      392.0      450.0  421.0            3.0   \n",
              "3  TRAIN_0003       639  289.0      368.0      379.0  373.5            3.1   \n",
              "4  TRAIN_0004       496  306.0      353.0      358.0  355.5            3.7   \n",
              "\n",
              "   2022-09-02 새순  2022-09-03 새순  2022-09-04 새순  ...  2022-11-19 엽록소  \\\n",
              "0            2.8            2.7            2.7  ...       70.978249   \n",
              "1            3.3            3.3            3.2  ...       71.535483   \n",
              "2            2.9            2.9            2.9  ...       71.279804   \n",
              "3            3.0            3.0            3.0  ...       69.934615   \n",
              "4            3.6            3.6            3.6  ...       68.313016   \n",
              "\n",
              "   2022-11-20 엽록소  2022-11-21 엽록소  2022-11-22 엽록소  2022-11-23 엽록소  \\\n",
              "0       70.876794       70.705253       70.559603       70.427356   \n",
              "1       71.382303       71.253604       71.092665       70.955608   \n",
              "2       71.199570       71.144020       71.026740       70.920038   \n",
              "3       69.884124       69.845683       69.794682       69.779813   \n",
              "4       68.285364       68.209860       68.209458       68.040083   \n",
              "\n",
              "   2022-11-24 엽록소  2022-11-25 엽록소  2022-11-26 엽록소  2022-11-27 엽록소  \\\n",
              "0       70.340491       70.293830       70.262422       70.169841   \n",
              "1       70.796630       70.597550       70.565088       70.560502   \n",
              "2       70.876723       70.710129       70.595971       70.418203   \n",
              "3       69.614644       69.455404       69.281590       69.238689   \n",
              "4       67.859963       67.775556       67.701456       67.504244   \n",
              "\n",
              "   2022-11-28 엽록소  \n",
              "0       70.043251  \n",
              "1       70.427600  \n",
              "2       70.399578  \n",
              "3       69.133970  \n",
              "4       67.410093  \n",
              "\n",
              "[5 rows x 184 columns]"
            ],
            "text/html": [
              "\n",
              "  <div id=\"df-e5fca9f6-b3e5-45c4-abf6-e4c962320eb1\" class=\"colab-df-container\">\n",
              "    <div>\n",
              "<style scoped>\n",
              "    .dataframe tbody tr th:only-of-type {\n",
              "        vertical-align: middle;\n",
              "    }\n",
              "\n",
              "    .dataframe tbody tr th {\n",
              "        vertical-align: top;\n",
              "    }\n",
              "\n",
              "    .dataframe thead th {\n",
              "        text-align: right;\n",
              "    }\n",
              "</style>\n",
              "<table border=\"1\" class=\"dataframe\">\n",
              "  <thead>\n",
              "    <tr style=\"text-align: right;\">\n",
              "      <th></th>\n",
              "      <th>ID</th>\n",
              "      <th>착과량(int)</th>\n",
              "      <th>수고(m)</th>\n",
              "      <th>수관폭1(min)</th>\n",
              "      <th>수관폭2(max)</th>\n",
              "      <th>수관폭평균</th>\n",
              "      <th>2022-09-01 새순</th>\n",
              "      <th>2022-09-02 새순</th>\n",
              "      <th>2022-09-03 새순</th>\n",
              "      <th>2022-09-04 새순</th>\n",
              "      <th>...</th>\n",
              "      <th>2022-11-19 엽록소</th>\n",
              "      <th>2022-11-20 엽록소</th>\n",
              "      <th>2022-11-21 엽록소</th>\n",
              "      <th>2022-11-22 엽록소</th>\n",
              "      <th>2022-11-23 엽록소</th>\n",
              "      <th>2022-11-24 엽록소</th>\n",
              "      <th>2022-11-25 엽록소</th>\n",
              "      <th>2022-11-26 엽록소</th>\n",
              "      <th>2022-11-27 엽록소</th>\n",
              "      <th>2022-11-28 엽록소</th>\n",
              "    </tr>\n",
              "  </thead>\n",
              "  <tbody>\n",
              "    <tr>\n",
              "      <th>0</th>\n",
              "      <td>TRAIN_0000</td>\n",
              "      <td>692</td>\n",
              "      <td>275.0</td>\n",
              "      <td>287.0</td>\n",
              "      <td>292.0</td>\n",
              "      <td>289.5</td>\n",
              "      <td>2.8</td>\n",
              "      <td>2.8</td>\n",
              "      <td>2.7</td>\n",
              "      <td>2.7</td>\n",
              "      <td>...</td>\n",
              "      <td>70.978249</td>\n",
              "      <td>70.876794</td>\n",
              "      <td>70.705253</td>\n",
              "      <td>70.559603</td>\n",
              "      <td>70.427356</td>\n",
              "      <td>70.340491</td>\n",
              "      <td>70.293830</td>\n",
              "      <td>70.262422</td>\n",
              "      <td>70.169841</td>\n",
              "      <td>70.043251</td>\n",
              "    </tr>\n",
              "    <tr>\n",
              "      <th>1</th>\n",
              "      <td>TRAIN_0001</td>\n",
              "      <td>534</td>\n",
              "      <td>293.0</td>\n",
              "      <td>284.0</td>\n",
              "      <td>336.0</td>\n",
              "      <td>310.0</td>\n",
              "      <td>3.3</td>\n",
              "      <td>3.3</td>\n",
              "      <td>3.3</td>\n",
              "      <td>3.2</td>\n",
              "      <td>...</td>\n",
              "      <td>71.535483</td>\n",
              "      <td>71.382303</td>\n",
              "      <td>71.253604</td>\n",
              "      <td>71.092665</td>\n",
              "      <td>70.955608</td>\n",
              "      <td>70.796630</td>\n",
              "      <td>70.597550</td>\n",
              "      <td>70.565088</td>\n",
              "      <td>70.560502</td>\n",
              "      <td>70.427600</td>\n",
              "    </tr>\n",
              "    <tr>\n",
              "      <th>2</th>\n",
              "      <td>TRAIN_0002</td>\n",
              "      <td>634</td>\n",
              "      <td>300.0</td>\n",
              "      <td>392.0</td>\n",
              "      <td>450.0</td>\n",
              "      <td>421.0</td>\n",
              "      <td>3.0</td>\n",
              "      <td>2.9</td>\n",
              "      <td>2.9</td>\n",
              "      <td>2.9</td>\n",
              "      <td>...</td>\n",
              "      <td>71.279804</td>\n",
              "      <td>71.199570</td>\n",
              "      <td>71.144020</td>\n",
              "      <td>71.026740</td>\n",
              "      <td>70.920038</td>\n",
              "      <td>70.876723</td>\n",
              "      <td>70.710129</td>\n",
              "      <td>70.595971</td>\n",
              "      <td>70.418203</td>\n",
              "      <td>70.399578</td>\n",
              "    </tr>\n",
              "    <tr>\n",
              "      <th>3</th>\n",
              "      <td>TRAIN_0003</td>\n",
              "      <td>639</td>\n",
              "      <td>289.0</td>\n",
              "      <td>368.0</td>\n",
              "      <td>379.0</td>\n",
              "      <td>373.5</td>\n",
              "      <td>3.1</td>\n",
              "      <td>3.0</td>\n",
              "      <td>3.0</td>\n",
              "      <td>3.0</td>\n",
              "      <td>...</td>\n",
              "      <td>69.934615</td>\n",
              "      <td>69.884124</td>\n",
              "      <td>69.845683</td>\n",
              "      <td>69.794682</td>\n",
              "      <td>69.779813</td>\n",
              "      <td>69.614644</td>\n",
              "      <td>69.455404</td>\n",
              "      <td>69.281590</td>\n",
              "      <td>69.238689</td>\n",
              "      <td>69.133970</td>\n",
              "    </tr>\n",
              "    <tr>\n",
              "      <th>4</th>\n",
              "      <td>TRAIN_0004</td>\n",
              "      <td>496</td>\n",
              "      <td>306.0</td>\n",
              "      <td>353.0</td>\n",
              "      <td>358.0</td>\n",
              "      <td>355.5</td>\n",
              "      <td>3.7</td>\n",
              "      <td>3.6</td>\n",
              "      <td>3.6</td>\n",
              "      <td>3.6</td>\n",
              "      <td>...</td>\n",
              "      <td>68.313016</td>\n",
              "      <td>68.285364</td>\n",
              "      <td>68.209860</td>\n",
              "      <td>68.209458</td>\n",
              "      <td>68.040083</td>\n",
              "      <td>67.859963</td>\n",
              "      <td>67.775556</td>\n",
              "      <td>67.701456</td>\n",
              "      <td>67.504244</td>\n",
              "      <td>67.410093</td>\n",
              "    </tr>\n",
              "  </tbody>\n",
              "</table>\n",
              "<p>5 rows × 184 columns</p>\n",
              "</div>\n",
              "    <div class=\"colab-df-buttons\">\n",
              "\n",
              "  <div class=\"colab-df-container\">\n",
              "    <button class=\"colab-df-convert\" onclick=\"convertToInteractive('df-e5fca9f6-b3e5-45c4-abf6-e4c962320eb1')\"\n",
              "            title=\"Convert this dataframe to an interactive table.\"\n",
              "            style=\"display:none;\">\n",
              "\n",
              "  <svg xmlns=\"http://www.w3.org/2000/svg\" height=\"24px\" viewBox=\"0 -960 960 960\">\n",
              "    <path d=\"M120-120v-720h720v720H120Zm60-500h600v-160H180v160Zm220 220h160v-160H400v160Zm0 220h160v-160H400v160ZM180-400h160v-160H180v160Zm440 0h160v-160H620v160ZM180-180h160v-160H180v160Zm440 0h160v-160H620v160Z\"/>\n",
              "  </svg>\n",
              "    </button>\n",
              "\n",
              "  <style>\n",
              "    .colab-df-container {\n",
              "      display:flex;\n",
              "      gap: 12px;\n",
              "    }\n",
              "\n",
              "    .colab-df-convert {\n",
              "      background-color: #E8F0FE;\n",
              "      border: none;\n",
              "      border-radius: 50%;\n",
              "      cursor: pointer;\n",
              "      display: none;\n",
              "      fill: #1967D2;\n",
              "      height: 32px;\n",
              "      padding: 0 0 0 0;\n",
              "      width: 32px;\n",
              "    }\n",
              "\n",
              "    .colab-df-convert:hover {\n",
              "      background-color: #E2EBFA;\n",
              "      box-shadow: 0px 1px 2px rgba(60, 64, 67, 0.3), 0px 1px 3px 1px rgba(60, 64, 67, 0.15);\n",
              "      fill: #174EA6;\n",
              "    }\n",
              "\n",
              "    .colab-df-buttons div {\n",
              "      margin-bottom: 4px;\n",
              "    }\n",
              "\n",
              "    [theme=dark] .colab-df-convert {\n",
              "      background-color: #3B4455;\n",
              "      fill: #D2E3FC;\n",
              "    }\n",
              "\n",
              "    [theme=dark] .colab-df-convert:hover {\n",
              "      background-color: #434B5C;\n",
              "      box-shadow: 0px 1px 3px 1px rgba(0, 0, 0, 0.15);\n",
              "      filter: drop-shadow(0px 1px 2px rgba(0, 0, 0, 0.3));\n",
              "      fill: #FFFFFF;\n",
              "    }\n",
              "  </style>\n",
              "\n",
              "    <script>\n",
              "      const buttonEl =\n",
              "        document.querySelector('#df-e5fca9f6-b3e5-45c4-abf6-e4c962320eb1 button.colab-df-convert');\n",
              "      buttonEl.style.display =\n",
              "        google.colab.kernel.accessAllowed ? 'block' : 'none';\n",
              "\n",
              "      async function convertToInteractive(key) {\n",
              "        const element = document.querySelector('#df-e5fca9f6-b3e5-45c4-abf6-e4c962320eb1');\n",
              "        const dataTable =\n",
              "          await google.colab.kernel.invokeFunction('convertToInteractive',\n",
              "                                                    [key], {});\n",
              "        if (!dataTable) return;\n",
              "\n",
              "        const docLinkHtml = 'Like what you see? Visit the ' +\n",
              "          '<a target=\"_blank\" href=https://colab.research.google.com/notebooks/data_table.ipynb>data table notebook</a>'\n",
              "          + ' to learn more about interactive tables.';\n",
              "        element.innerHTML = '';\n",
              "        dataTable['output_type'] = 'display_data';\n",
              "        await google.colab.output.renderOutput(dataTable, element);\n",
              "        const docLink = document.createElement('div');\n",
              "        docLink.innerHTML = docLinkHtml;\n",
              "        element.appendChild(docLink);\n",
              "      }\n",
              "    </script>\n",
              "  </div>\n",
              "\n",
              "\n",
              "<div id=\"df-60c7a213-c56f-49a2-8119-ddb6c08cc5a6\">\n",
              "  <button class=\"colab-df-quickchart\" onclick=\"quickchart('df-60c7a213-c56f-49a2-8119-ddb6c08cc5a6')\"\n",
              "            title=\"Suggest charts\"\n",
              "            style=\"display:none;\">\n",
              "\n",
              "<svg xmlns=\"http://www.w3.org/2000/svg\" height=\"24px\"viewBox=\"0 0 24 24\"\n",
              "     width=\"24px\">\n",
              "    <g>\n",
              "        <path d=\"M19 3H5c-1.1 0-2 .9-2 2v14c0 1.1.9 2 2 2h14c1.1 0 2-.9 2-2V5c0-1.1-.9-2-2-2zM9 17H7v-7h2v7zm4 0h-2V7h2v10zm4 0h-2v-4h2v4z\"/>\n",
              "    </g>\n",
              "</svg>\n",
              "  </button>\n",
              "\n",
              "<style>\n",
              "  .colab-df-quickchart {\n",
              "      --bg-color: #E8F0FE;\n",
              "      --fill-color: #1967D2;\n",
              "      --hover-bg-color: #E2EBFA;\n",
              "      --hover-fill-color: #174EA6;\n",
              "      --disabled-fill-color: #AAA;\n",
              "      --disabled-bg-color: #DDD;\n",
              "  }\n",
              "\n",
              "  [theme=dark] .colab-df-quickchart {\n",
              "      --bg-color: #3B4455;\n",
              "      --fill-color: #D2E3FC;\n",
              "      --hover-bg-color: #434B5C;\n",
              "      --hover-fill-color: #FFFFFF;\n",
              "      --disabled-bg-color: #3B4455;\n",
              "      --disabled-fill-color: #666;\n",
              "  }\n",
              "\n",
              "  .colab-df-quickchart {\n",
              "    background-color: var(--bg-color);\n",
              "    border: none;\n",
              "    border-radius: 50%;\n",
              "    cursor: pointer;\n",
              "    display: none;\n",
              "    fill: var(--fill-color);\n",
              "    height: 32px;\n",
              "    padding: 0;\n",
              "    width: 32px;\n",
              "  }\n",
              "\n",
              "  .colab-df-quickchart:hover {\n",
              "    background-color: var(--hover-bg-color);\n",
              "    box-shadow: 0 1px 2px rgba(60, 64, 67, 0.3), 0 1px 3px 1px rgba(60, 64, 67, 0.15);\n",
              "    fill: var(--button-hover-fill-color);\n",
              "  }\n",
              "\n",
              "  .colab-df-quickchart-complete:disabled,\n",
              "  .colab-df-quickchart-complete:disabled:hover {\n",
              "    background-color: var(--disabled-bg-color);\n",
              "    fill: var(--disabled-fill-color);\n",
              "    box-shadow: none;\n",
              "  }\n",
              "\n",
              "  .colab-df-spinner {\n",
              "    border: 2px solid var(--fill-color);\n",
              "    border-color: transparent;\n",
              "    border-bottom-color: var(--fill-color);\n",
              "    animation:\n",
              "      spin 1s steps(1) infinite;\n",
              "  }\n",
              "\n",
              "  @keyframes spin {\n",
              "    0% {\n",
              "      border-color: transparent;\n",
              "      border-bottom-color: var(--fill-color);\n",
              "      border-left-color: var(--fill-color);\n",
              "    }\n",
              "    20% {\n",
              "      border-color: transparent;\n",
              "      border-left-color: var(--fill-color);\n",
              "      border-top-color: var(--fill-color);\n",
              "    }\n",
              "    30% {\n",
              "      border-color: transparent;\n",
              "      border-left-color: var(--fill-color);\n",
              "      border-top-color: var(--fill-color);\n",
              "      border-right-color: var(--fill-color);\n",
              "    }\n",
              "    40% {\n",
              "      border-color: transparent;\n",
              "      border-right-color: var(--fill-color);\n",
              "      border-top-color: var(--fill-color);\n",
              "    }\n",
              "    60% {\n",
              "      border-color: transparent;\n",
              "      border-right-color: var(--fill-color);\n",
              "    }\n",
              "    80% {\n",
              "      border-color: transparent;\n",
              "      border-right-color: var(--fill-color);\n",
              "      border-bottom-color: var(--fill-color);\n",
              "    }\n",
              "    90% {\n",
              "      border-color: transparent;\n",
              "      border-bottom-color: var(--fill-color);\n",
              "    }\n",
              "  }\n",
              "</style>\n",
              "\n",
              "  <script>\n",
              "    async function quickchart(key) {\n",
              "      const quickchartButtonEl =\n",
              "        document.querySelector('#' + key + ' button');\n",
              "      quickchartButtonEl.disabled = true;  // To prevent multiple clicks.\n",
              "      quickchartButtonEl.classList.add('colab-df-spinner');\n",
              "      try {\n",
              "        const charts = await google.colab.kernel.invokeFunction(\n",
              "            'suggestCharts', [key], {});\n",
              "      } catch (error) {\n",
              "        console.error('Error during call to suggestCharts:', error);\n",
              "      }\n",
              "      quickchartButtonEl.classList.remove('colab-df-spinner');\n",
              "      quickchartButtonEl.classList.add('colab-df-quickchart-complete');\n",
              "    }\n",
              "    (() => {\n",
              "      let quickchartButtonEl =\n",
              "        document.querySelector('#df-60c7a213-c56f-49a2-8119-ddb6c08cc5a6 button');\n",
              "      quickchartButtonEl.style.display =\n",
              "        google.colab.kernel.accessAllowed ? 'block' : 'none';\n",
              "    })();\n",
              "  </script>\n",
              "</div>\n",
              "\n",
              "    </div>\n",
              "  </div>\n"
            ],
            "application/vnd.google.colaboratory.intrinsic+json": {
              "type": "dataframe",
              "variable_name": "train"
            }
          },
          "metadata": {},
          "execution_count": 34
        }
      ]
    },
    {
      "cell_type": "code",
      "source": [
        "test.head()"
      ],
      "metadata": {
        "id": "z_o4oVV1SGv-",
        "colab": {
          "base_uri": "https://localhost:8080/",
          "height": 290
        },
        "outputId": "31d0687f-1185-4a94-af66-cda40a1b61ba"
      },
      "execution_count": 35,
      "outputs": [
        {
          "output_type": "execute_result",
          "data": {
            "text/plain": [
              "          ID  수고(m)  수관폭1(min)  수관폭2(max)  수관폭평균  2022-09-01 새순  \\\n",
              "0  TEST_0000  231.0      219.0      302.0  260.5            4.3   \n",
              "1  TEST_0001  206.0      324.0      346.0  335.0            2.5   \n",
              "2  TEST_0002  282.0      373.0      404.0  388.5            4.7   \n",
              "3  TEST_0003  234.0      337.0      357.0  347.0            3.6   \n",
              "4  TEST_0004  222.0      329.0      347.0  338.0            2.7   \n",
              "\n",
              "   2022-09-02 새순  2022-09-03 새순  2022-09-04 새순  2022-09-05 새순  ...  \\\n",
              "0            4.2            4.2            4.1            4.1  ...   \n",
              "1            2.5            2.5            2.5            2.5  ...   \n",
              "2            4.7            4.6            4.6            4.5  ...   \n",
              "3            3.6            3.6            3.6            3.5  ...   \n",
              "4            2.7            2.7            2.7            2.6  ...   \n",
              "\n",
              "   2022-11-19 엽록소  2022-11-20 엽록소  2022-11-21 엽록소  2022-11-22 엽록소  \\\n",
              "0       72.091497       71.906176       71.886799       71.858720   \n",
              "1       68.423776       68.353200       68.346777       68.188159   \n",
              "2       74.435783       74.247468       74.142664       74.070401   \n",
              "3       73.570735       73.420243       73.313538       73.149298   \n",
              "4       72.216758       72.163153       72.052952       71.905982   \n",
              "\n",
              "   2022-11-23 엽록소  2022-11-24 엽록소  2022-11-25 엽록소  2022-11-26 엽록소  \\\n",
              "0       71.725540       71.531618       71.476935       71.321237   \n",
              "1       67.995233       67.879958       67.744820       67.673522   \n",
              "2       73.892408       73.796143       73.615838       73.440136   \n",
              "3       73.109599       72.924511       72.847411       72.838263   \n",
              "4       71.766141       71.746813       71.668847       71.501043   \n",
              "\n",
              "   2022-11-27 엽록소  2022-11-28 엽록소  \n",
              "0       71.184295       71.000223  \n",
              "1       67.539973       67.447849  \n",
              "2       73.387051       73.228319  \n",
              "3       72.672156       72.538171  \n",
              "4       71.419715       71.328224  \n",
              "\n",
              "[5 rows x 183 columns]"
            ],
            "text/html": [
              "\n",
              "  <div id=\"df-905ca99a-a0dc-4d47-ad76-75a40074b80f\" class=\"colab-df-container\">\n",
              "    <div>\n",
              "<style scoped>\n",
              "    .dataframe tbody tr th:only-of-type {\n",
              "        vertical-align: middle;\n",
              "    }\n",
              "\n",
              "    .dataframe tbody tr th {\n",
              "        vertical-align: top;\n",
              "    }\n",
              "\n",
              "    .dataframe thead th {\n",
              "        text-align: right;\n",
              "    }\n",
              "</style>\n",
              "<table border=\"1\" class=\"dataframe\">\n",
              "  <thead>\n",
              "    <tr style=\"text-align: right;\">\n",
              "      <th></th>\n",
              "      <th>ID</th>\n",
              "      <th>수고(m)</th>\n",
              "      <th>수관폭1(min)</th>\n",
              "      <th>수관폭2(max)</th>\n",
              "      <th>수관폭평균</th>\n",
              "      <th>2022-09-01 새순</th>\n",
              "      <th>2022-09-02 새순</th>\n",
              "      <th>2022-09-03 새순</th>\n",
              "      <th>2022-09-04 새순</th>\n",
              "      <th>2022-09-05 새순</th>\n",
              "      <th>...</th>\n",
              "      <th>2022-11-19 엽록소</th>\n",
              "      <th>2022-11-20 엽록소</th>\n",
              "      <th>2022-11-21 엽록소</th>\n",
              "      <th>2022-11-22 엽록소</th>\n",
              "      <th>2022-11-23 엽록소</th>\n",
              "      <th>2022-11-24 엽록소</th>\n",
              "      <th>2022-11-25 엽록소</th>\n",
              "      <th>2022-11-26 엽록소</th>\n",
              "      <th>2022-11-27 엽록소</th>\n",
              "      <th>2022-11-28 엽록소</th>\n",
              "    </tr>\n",
              "  </thead>\n",
              "  <tbody>\n",
              "    <tr>\n",
              "      <th>0</th>\n",
              "      <td>TEST_0000</td>\n",
              "      <td>231.0</td>\n",
              "      <td>219.0</td>\n",
              "      <td>302.0</td>\n",
              "      <td>260.5</td>\n",
              "      <td>4.3</td>\n",
              "      <td>4.2</td>\n",
              "      <td>4.2</td>\n",
              "      <td>4.1</td>\n",
              "      <td>4.1</td>\n",
              "      <td>...</td>\n",
              "      <td>72.091497</td>\n",
              "      <td>71.906176</td>\n",
              "      <td>71.886799</td>\n",
              "      <td>71.858720</td>\n",
              "      <td>71.725540</td>\n",
              "      <td>71.531618</td>\n",
              "      <td>71.476935</td>\n",
              "      <td>71.321237</td>\n",
              "      <td>71.184295</td>\n",
              "      <td>71.000223</td>\n",
              "    </tr>\n",
              "    <tr>\n",
              "      <th>1</th>\n",
              "      <td>TEST_0001</td>\n",
              "      <td>206.0</td>\n",
              "      <td>324.0</td>\n",
              "      <td>346.0</td>\n",
              "      <td>335.0</td>\n",
              "      <td>2.5</td>\n",
              "      <td>2.5</td>\n",
              "      <td>2.5</td>\n",
              "      <td>2.5</td>\n",
              "      <td>2.5</td>\n",
              "      <td>...</td>\n",
              "      <td>68.423776</td>\n",
              "      <td>68.353200</td>\n",
              "      <td>68.346777</td>\n",
              "      <td>68.188159</td>\n",
              "      <td>67.995233</td>\n",
              "      <td>67.879958</td>\n",
              "      <td>67.744820</td>\n",
              "      <td>67.673522</td>\n",
              "      <td>67.539973</td>\n",
              "      <td>67.447849</td>\n",
              "    </tr>\n",
              "    <tr>\n",
              "      <th>2</th>\n",
              "      <td>TEST_0002</td>\n",
              "      <td>282.0</td>\n",
              "      <td>373.0</td>\n",
              "      <td>404.0</td>\n",
              "      <td>388.5</td>\n",
              "      <td>4.7</td>\n",
              "      <td>4.7</td>\n",
              "      <td>4.6</td>\n",
              "      <td>4.6</td>\n",
              "      <td>4.5</td>\n",
              "      <td>...</td>\n",
              "      <td>74.435783</td>\n",
              "      <td>74.247468</td>\n",
              "      <td>74.142664</td>\n",
              "      <td>74.070401</td>\n",
              "      <td>73.892408</td>\n",
              "      <td>73.796143</td>\n",
              "      <td>73.615838</td>\n",
              "      <td>73.440136</td>\n",
              "      <td>73.387051</td>\n",
              "      <td>73.228319</td>\n",
              "    </tr>\n",
              "    <tr>\n",
              "      <th>3</th>\n",
              "      <td>TEST_0003</td>\n",
              "      <td>234.0</td>\n",
              "      <td>337.0</td>\n",
              "      <td>357.0</td>\n",
              "      <td>347.0</td>\n",
              "      <td>3.6</td>\n",
              "      <td>3.6</td>\n",
              "      <td>3.6</td>\n",
              "      <td>3.6</td>\n",
              "      <td>3.5</td>\n",
              "      <td>...</td>\n",
              "      <td>73.570735</td>\n",
              "      <td>73.420243</td>\n",
              "      <td>73.313538</td>\n",
              "      <td>73.149298</td>\n",
              "      <td>73.109599</td>\n",
              "      <td>72.924511</td>\n",
              "      <td>72.847411</td>\n",
              "      <td>72.838263</td>\n",
              "      <td>72.672156</td>\n",
              "      <td>72.538171</td>\n",
              "    </tr>\n",
              "    <tr>\n",
              "      <th>4</th>\n",
              "      <td>TEST_0004</td>\n",
              "      <td>222.0</td>\n",
              "      <td>329.0</td>\n",
              "      <td>347.0</td>\n",
              "      <td>338.0</td>\n",
              "      <td>2.7</td>\n",
              "      <td>2.7</td>\n",
              "      <td>2.7</td>\n",
              "      <td>2.7</td>\n",
              "      <td>2.6</td>\n",
              "      <td>...</td>\n",
              "      <td>72.216758</td>\n",
              "      <td>72.163153</td>\n",
              "      <td>72.052952</td>\n",
              "      <td>71.905982</td>\n",
              "      <td>71.766141</td>\n",
              "      <td>71.746813</td>\n",
              "      <td>71.668847</td>\n",
              "      <td>71.501043</td>\n",
              "      <td>71.419715</td>\n",
              "      <td>71.328224</td>\n",
              "    </tr>\n",
              "  </tbody>\n",
              "</table>\n",
              "<p>5 rows × 183 columns</p>\n",
              "</div>\n",
              "    <div class=\"colab-df-buttons\">\n",
              "\n",
              "  <div class=\"colab-df-container\">\n",
              "    <button class=\"colab-df-convert\" onclick=\"convertToInteractive('df-905ca99a-a0dc-4d47-ad76-75a40074b80f')\"\n",
              "            title=\"Convert this dataframe to an interactive table.\"\n",
              "            style=\"display:none;\">\n",
              "\n",
              "  <svg xmlns=\"http://www.w3.org/2000/svg\" height=\"24px\" viewBox=\"0 -960 960 960\">\n",
              "    <path d=\"M120-120v-720h720v720H120Zm60-500h600v-160H180v160Zm220 220h160v-160H400v160Zm0 220h160v-160H400v160ZM180-400h160v-160H180v160Zm440 0h160v-160H620v160ZM180-180h160v-160H180v160Zm440 0h160v-160H620v160Z\"/>\n",
              "  </svg>\n",
              "    </button>\n",
              "\n",
              "  <style>\n",
              "    .colab-df-container {\n",
              "      display:flex;\n",
              "      gap: 12px;\n",
              "    }\n",
              "\n",
              "    .colab-df-convert {\n",
              "      background-color: #E8F0FE;\n",
              "      border: none;\n",
              "      border-radius: 50%;\n",
              "      cursor: pointer;\n",
              "      display: none;\n",
              "      fill: #1967D2;\n",
              "      height: 32px;\n",
              "      padding: 0 0 0 0;\n",
              "      width: 32px;\n",
              "    }\n",
              "\n",
              "    .colab-df-convert:hover {\n",
              "      background-color: #E2EBFA;\n",
              "      box-shadow: 0px 1px 2px rgba(60, 64, 67, 0.3), 0px 1px 3px 1px rgba(60, 64, 67, 0.15);\n",
              "      fill: #174EA6;\n",
              "    }\n",
              "\n",
              "    .colab-df-buttons div {\n",
              "      margin-bottom: 4px;\n",
              "    }\n",
              "\n",
              "    [theme=dark] .colab-df-convert {\n",
              "      background-color: #3B4455;\n",
              "      fill: #D2E3FC;\n",
              "    }\n",
              "\n",
              "    [theme=dark] .colab-df-convert:hover {\n",
              "      background-color: #434B5C;\n",
              "      box-shadow: 0px 1px 3px 1px rgba(0, 0, 0, 0.15);\n",
              "      filter: drop-shadow(0px 1px 2px rgba(0, 0, 0, 0.3));\n",
              "      fill: #FFFFFF;\n",
              "    }\n",
              "  </style>\n",
              "\n",
              "    <script>\n",
              "      const buttonEl =\n",
              "        document.querySelector('#df-905ca99a-a0dc-4d47-ad76-75a40074b80f button.colab-df-convert');\n",
              "      buttonEl.style.display =\n",
              "        google.colab.kernel.accessAllowed ? 'block' : 'none';\n",
              "\n",
              "      async function convertToInteractive(key) {\n",
              "        const element = document.querySelector('#df-905ca99a-a0dc-4d47-ad76-75a40074b80f');\n",
              "        const dataTable =\n",
              "          await google.colab.kernel.invokeFunction('convertToInteractive',\n",
              "                                                    [key], {});\n",
              "        if (!dataTable) return;\n",
              "\n",
              "        const docLinkHtml = 'Like what you see? Visit the ' +\n",
              "          '<a target=\"_blank\" href=https://colab.research.google.com/notebooks/data_table.ipynb>data table notebook</a>'\n",
              "          + ' to learn more about interactive tables.';\n",
              "        element.innerHTML = '';\n",
              "        dataTable['output_type'] = 'display_data';\n",
              "        await google.colab.output.renderOutput(dataTable, element);\n",
              "        const docLink = document.createElement('div');\n",
              "        docLink.innerHTML = docLinkHtml;\n",
              "        element.appendChild(docLink);\n",
              "      }\n",
              "    </script>\n",
              "  </div>\n",
              "\n",
              "\n",
              "<div id=\"df-7e058352-9017-43ed-82b4-51c68b6b9af5\">\n",
              "  <button class=\"colab-df-quickchart\" onclick=\"quickchart('df-7e058352-9017-43ed-82b4-51c68b6b9af5')\"\n",
              "            title=\"Suggest charts\"\n",
              "            style=\"display:none;\">\n",
              "\n",
              "<svg xmlns=\"http://www.w3.org/2000/svg\" height=\"24px\"viewBox=\"0 0 24 24\"\n",
              "     width=\"24px\">\n",
              "    <g>\n",
              "        <path d=\"M19 3H5c-1.1 0-2 .9-2 2v14c0 1.1.9 2 2 2h14c1.1 0 2-.9 2-2V5c0-1.1-.9-2-2-2zM9 17H7v-7h2v7zm4 0h-2V7h2v10zm4 0h-2v-4h2v4z\"/>\n",
              "    </g>\n",
              "</svg>\n",
              "  </button>\n",
              "\n",
              "<style>\n",
              "  .colab-df-quickchart {\n",
              "      --bg-color: #E8F0FE;\n",
              "      --fill-color: #1967D2;\n",
              "      --hover-bg-color: #E2EBFA;\n",
              "      --hover-fill-color: #174EA6;\n",
              "      --disabled-fill-color: #AAA;\n",
              "      --disabled-bg-color: #DDD;\n",
              "  }\n",
              "\n",
              "  [theme=dark] .colab-df-quickchart {\n",
              "      --bg-color: #3B4455;\n",
              "      --fill-color: #D2E3FC;\n",
              "      --hover-bg-color: #434B5C;\n",
              "      --hover-fill-color: #FFFFFF;\n",
              "      --disabled-bg-color: #3B4455;\n",
              "      --disabled-fill-color: #666;\n",
              "  }\n",
              "\n",
              "  .colab-df-quickchart {\n",
              "    background-color: var(--bg-color);\n",
              "    border: none;\n",
              "    border-radius: 50%;\n",
              "    cursor: pointer;\n",
              "    display: none;\n",
              "    fill: var(--fill-color);\n",
              "    height: 32px;\n",
              "    padding: 0;\n",
              "    width: 32px;\n",
              "  }\n",
              "\n",
              "  .colab-df-quickchart:hover {\n",
              "    background-color: var(--hover-bg-color);\n",
              "    box-shadow: 0 1px 2px rgba(60, 64, 67, 0.3), 0 1px 3px 1px rgba(60, 64, 67, 0.15);\n",
              "    fill: var(--button-hover-fill-color);\n",
              "  }\n",
              "\n",
              "  .colab-df-quickchart-complete:disabled,\n",
              "  .colab-df-quickchart-complete:disabled:hover {\n",
              "    background-color: var(--disabled-bg-color);\n",
              "    fill: var(--disabled-fill-color);\n",
              "    box-shadow: none;\n",
              "  }\n",
              "\n",
              "  .colab-df-spinner {\n",
              "    border: 2px solid var(--fill-color);\n",
              "    border-color: transparent;\n",
              "    border-bottom-color: var(--fill-color);\n",
              "    animation:\n",
              "      spin 1s steps(1) infinite;\n",
              "  }\n",
              "\n",
              "  @keyframes spin {\n",
              "    0% {\n",
              "      border-color: transparent;\n",
              "      border-bottom-color: var(--fill-color);\n",
              "      border-left-color: var(--fill-color);\n",
              "    }\n",
              "    20% {\n",
              "      border-color: transparent;\n",
              "      border-left-color: var(--fill-color);\n",
              "      border-top-color: var(--fill-color);\n",
              "    }\n",
              "    30% {\n",
              "      border-color: transparent;\n",
              "      border-left-color: var(--fill-color);\n",
              "      border-top-color: var(--fill-color);\n",
              "      border-right-color: var(--fill-color);\n",
              "    }\n",
              "    40% {\n",
              "      border-color: transparent;\n",
              "      border-right-color: var(--fill-color);\n",
              "      border-top-color: var(--fill-color);\n",
              "    }\n",
              "    60% {\n",
              "      border-color: transparent;\n",
              "      border-right-color: var(--fill-color);\n",
              "    }\n",
              "    80% {\n",
              "      border-color: transparent;\n",
              "      border-right-color: var(--fill-color);\n",
              "      border-bottom-color: var(--fill-color);\n",
              "    }\n",
              "    90% {\n",
              "      border-color: transparent;\n",
              "      border-bottom-color: var(--fill-color);\n",
              "    }\n",
              "  }\n",
              "</style>\n",
              "\n",
              "  <script>\n",
              "    async function quickchart(key) {\n",
              "      const quickchartButtonEl =\n",
              "        document.querySelector('#' + key + ' button');\n",
              "      quickchartButtonEl.disabled = true;  // To prevent multiple clicks.\n",
              "      quickchartButtonEl.classList.add('colab-df-spinner');\n",
              "      try {\n",
              "        const charts = await google.colab.kernel.invokeFunction(\n",
              "            'suggestCharts', [key], {});\n",
              "      } catch (error) {\n",
              "        console.error('Error during call to suggestCharts:', error);\n",
              "      }\n",
              "      quickchartButtonEl.classList.remove('colab-df-spinner');\n",
              "      quickchartButtonEl.classList.add('colab-df-quickchart-complete');\n",
              "    }\n",
              "    (() => {\n",
              "      let quickchartButtonEl =\n",
              "        document.querySelector('#df-7e058352-9017-43ed-82b4-51c68b6b9af5 button');\n",
              "      quickchartButtonEl.style.display =\n",
              "        google.colab.kernel.accessAllowed ? 'block' : 'none';\n",
              "    })();\n",
              "  </script>\n",
              "</div>\n",
              "\n",
              "    </div>\n",
              "  </div>\n"
            ],
            "application/vnd.google.colaboratory.intrinsic+json": {
              "type": "dataframe",
              "variable_name": "test"
            }
          },
          "metadata": {},
          "execution_count": 35
        }
      ]
    },
    {
      "cell_type": "code",
      "source": [
        "test.shape"
      ],
      "metadata": {
        "id": "LAwEwQBYFaHl",
        "colab": {
          "base_uri": "https://localhost:8080/"
        },
        "outputId": "f8b7f5ec-c145-41b7-fe61-ed9d607d4234"
      },
      "execution_count": 36,
      "outputs": [
        {
          "output_type": "execute_result",
          "data": {
            "text/plain": [
              "(2208, 183)"
            ]
          },
          "metadata": {},
          "execution_count": 36
        }
      ]
    },
    {
      "cell_type": "code",
      "source": [
        "train.shape"
      ],
      "metadata": {
        "id": "j1iSFoUZFamn",
        "colab": {
          "base_uri": "https://localhost:8080/"
        },
        "outputId": "36a78439-e99b-4447-9b8a-a4c356cba187"
      },
      "execution_count": 37,
      "outputs": [
        {
          "output_type": "execute_result",
          "data": {
            "text/plain": [
              "(2207, 184)"
            ]
          },
          "metadata": {},
          "execution_count": 37
        }
      ]
    },
    {
      "cell_type": "code",
      "source": [
        "test.columns"
      ],
      "metadata": {
        "id": "4-V2Ard5KSrj",
        "colab": {
          "base_uri": "https://localhost:8080/"
        },
        "outputId": "9c669c3b-1721-4bf6-e5ea-9e3e8bf94bf9"
      },
      "execution_count": 38,
      "outputs": [
        {
          "output_type": "execute_result",
          "data": {
            "text/plain": [
              "Index(['ID', '수고(m)', '수관폭1(min)', '수관폭2(max)', '수관폭평균', '2022-09-01 새순',\n",
              "       '2022-09-02 새순', '2022-09-03 새순', '2022-09-04 새순', '2022-09-05 새순',\n",
              "       ...\n",
              "       '2022-11-19 엽록소', '2022-11-20 엽록소', '2022-11-21 엽록소', '2022-11-22 엽록소',\n",
              "       '2022-11-23 엽록소', '2022-11-24 엽록소', '2022-11-25 엽록소', '2022-11-26 엽록소',\n",
              "       '2022-11-27 엽록소', '2022-11-28 엽록소'],\n",
              "      dtype='object', length=183)"
            ]
          },
          "metadata": {},
          "execution_count": 38
        }
      ]
    },
    {
      "cell_type": "code",
      "source": [
        "train.columns"
      ],
      "metadata": {
        "id": "bxKZSCPSKdjV",
        "colab": {
          "base_uri": "https://localhost:8080/"
        },
        "outputId": "b67ec731-28bf-4b31-9a4a-b385b1cea503"
      },
      "execution_count": 39,
      "outputs": [
        {
          "output_type": "execute_result",
          "data": {
            "text/plain": [
              "Index(['ID', '착과량(int)', '수고(m)', '수관폭1(min)', '수관폭2(max)', '수관폭평균',\n",
              "       '2022-09-01 새순', '2022-09-02 새순', '2022-09-03 새순', '2022-09-04 새순',\n",
              "       ...\n",
              "       '2022-11-19 엽록소', '2022-11-20 엽록소', '2022-11-21 엽록소', '2022-11-22 엽록소',\n",
              "       '2022-11-23 엽록소', '2022-11-24 엽록소', '2022-11-25 엽록소', '2022-11-26 엽록소',\n",
              "       '2022-11-27 엽록소', '2022-11-28 엽록소'],\n",
              "      dtype='object', length=184)"
            ]
          },
          "metadata": {},
          "execution_count": 39
        }
      ]
    },
    {
      "cell_type": "code",
      "source": [
        "train.isna().sum()"
      ],
      "metadata": {
        "id": "lvlM371qTQ9F",
        "colab": {
          "base_uri": "https://localhost:8080/"
        },
        "outputId": "279b59c7-8d61-400f-f1ce-9ff1bb09f39b"
      },
      "execution_count": 40,
      "outputs": [
        {
          "output_type": "execute_result",
          "data": {
            "text/plain": [
              "ID                0\n",
              "착과량(int)          0\n",
              "수고(m)             0\n",
              "수관폭1(min)         0\n",
              "수관폭2(max)         0\n",
              "                 ..\n",
              "2022-11-24 엽록소    0\n",
              "2022-11-25 엽록소    0\n",
              "2022-11-26 엽록소    0\n",
              "2022-11-27 엽록소    0\n",
              "2022-11-28 엽록소    0\n",
              "Length: 184, dtype: int64"
            ]
          },
          "metadata": {},
          "execution_count": 40
        }
      ]
    },
    {
      "cell_type": "code",
      "source": [
        "test.isna().sum()"
      ],
      "metadata": {
        "id": "3dpzSfP-TY46",
        "colab": {
          "base_uri": "https://localhost:8080/"
        },
        "outputId": "ebd44e8c-d07b-4c0d-f704-3f55df55c8cf"
      },
      "execution_count": 41,
      "outputs": [
        {
          "output_type": "execute_result",
          "data": {
            "text/plain": [
              "ID                0\n",
              "수고(m)             0\n",
              "수관폭1(min)         0\n",
              "수관폭2(max)         0\n",
              "수관폭평균             0\n",
              "                 ..\n",
              "2022-11-24 엽록소    0\n",
              "2022-11-25 엽록소    0\n",
              "2022-11-26 엽록소    0\n",
              "2022-11-27 엽록소    0\n",
              "2022-11-28 엽록소    0\n",
              "Length: 183, dtype: int64"
            ]
          },
          "metadata": {},
          "execution_count": 41
        }
      ]
    },
    {
      "cell_type": "code",
      "source": [
        "train['착과량(int)'].plot(kind='hist')"
      ],
      "metadata": {
        "colab": {
          "base_uri": "https://localhost:8080/",
          "height": 448
        },
        "id": "K90jg3OJc-Ak",
        "outputId": "443e3248-2307-43a6-c24f-4afc3ac76b4a"
      },
      "execution_count": 51,
      "outputs": [
        {
          "output_type": "execute_result",
          "data": {
            "text/plain": [
              "<Axes: ylabel='Frequency'>"
            ]
          },
          "metadata": {},
          "execution_count": 51
        },
        {
          "output_type": "display_data",
          "data": {
            "text/plain": [
              "<Figure size 640x480 with 1 Axes>"
            ],
            "image/png": "[encoded data removed]"
          },
          "metadata": {}
        }
      ]
    },
    {
      "cell_type": "code",
      "source": [
        "train['수고(m)'].plot(kind='hist')"
      ],
      "metadata": {
        "colab": {
          "base_uri": "https://localhost:8080/",
          "height": 448
        },
        "id": "hXsP9RLidXMu",
        "outputId": "d269d502-642e-4f75-ff60-57c6a27fdbe0"
      },
      "execution_count": 53,
      "outputs": [
        {
          "output_type": "execute_result",
          "data": {
            "text/plain": [
              "<Axes: ylabel='Frequency'>"
            ]
          },
          "metadata": {},
          "execution_count": 53
        },
        {
          "output_type": "display_data",
          "data": {
            "text/plain": [
              "<Figure size 640x480 with 1 Axes>"
            ],
            "image/png": "[encoded data removed]"
          },
          "metadata": {}
        }
      ]
    },
    {
      "cell_type": "code",
      "source": [
        "train['수관폭1(min)'].plot(kind='hist')"
      ],
      "metadata": {
        "colab": {
          "base_uri": "https://localhost:8080/",
          "height": 448
        },
        "id": "LZolQJFCdgRq",
        "outputId": "60746cd0-c852-421f-f38e-b05663479ece"
      },
      "execution_count": 55,
      "outputs": [
        {
          "output_type": "execute_result",
          "data": {
            "text/plain": [
              "<Axes: ylabel='Frequency'>"
            ]
          },
          "metadata": {},
          "execution_count": 55
        },
        {
          "output_type": "display_data",
          "data": {
            "text/plain": [
              "<Figure size 640x480 with 1 Axes>"
            ],
            "image/png": "[encoded data removed]"
          },
          "metadata": {}
        }
      ]
    },
    {
      "cell_type": "code",
      "source": [
        "train['수관폭2(max)'].plot(kind='hist')"
      ],
      "metadata": {
        "colab": {
          "base_uri": "https://localhost:8080/",
          "height": 448
        },
        "id": "GPvauN4Pdrn2",
        "outputId": "46d1fa7d-417b-448a-b95f-35b2cdabcc63"
      },
      "execution_count": 56,
      "outputs": [
        {
          "output_type": "execute_result",
          "data": {
            "text/plain": [
              "<Axes: ylabel='Frequency'>"
            ]
          },
          "metadata": {},
          "execution_count": 56
        },
        {
          "output_type": "display_data",
          "data": {
            "text/plain": [
              "<Figure size 640x480 with 1 Axes>"
            ],
            "image/png": "[encoded data removed]"
          },
          "metadata": {}
        }
      ]
    },
    {
      "cell_type": "code",
      "source": [
        "train['수관폭평균'].plot(kind='hist',bins=20)"
      ],
      "metadata": {
        "colab": {
          "base_uri": "https://localhost:8080/",
          "height": 448
        },
        "id": "XvBqIvwsd3PT",
        "outputId": "126f8df1-e0cd-4043-82e4-823f103d3e4e"
      },
      "execution_count": 57,
      "outputs": [
        {
          "output_type": "execute_result",
          "data": {
            "text/plain": [
              "<Axes: ylabel='Frequency'>"
            ]
          },
          "metadata": {},
          "execution_count": 57
        },
        {
          "output_type": "display_data",
          "data": {
            "text/plain": [
              "<Figure size 640x480 with 1 Axes>"
            ],
            "image/png": "[encoded data removed]"
          },
          "metadata": {}
        }
      ]
    }
  ]
}